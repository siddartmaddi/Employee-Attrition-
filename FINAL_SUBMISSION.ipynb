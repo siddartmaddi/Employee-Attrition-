{
 "cells": [
  {
   "cell_type": "markdown",
   "metadata": {},
   "source": [
    "# EMPLOYEE CHURN ANALYSIS"
   ]
  },
  {
   "cell_type": "markdown",
   "metadata": {},
   "source": [
    "## IMPORTING MODULES"
   ]
  },
  {
   "cell_type": "code",
   "execution_count": 161,
   "metadata": {},
   "outputs": [],
   "source": [
    "import pandas as pd\n",
    "import numpy as np\n",
    "import matplotlib.pyplot as plt\n",
    "%matplotlib inline\n",
    "import seaborn as sns\n",
    "from sklearn.metrics import roc_auc_score\n",
    "from sklearn.metrics import roc_curve\n",
    "from sklearn.metrics import classification_report\n",
    "from sklearn.metrics import confusion_matrix\n",
    "from sklearn.metrics import accuracy_score\n",
    "from sklearn.svm import SVC\n",
    "from sklearn.ensemble import RandomForestClassifier\n",
    "from sklearn.linear_model import LogisticRegression\n",
    "from sklearn.naive_bayes import GaussianNB\n",
    "from sklearn.decomposition import PCA\n",
    "\n",
    "\n",
    "import time\n"
   ]
  },
  {
   "cell_type": "markdown",
   "metadata": {},
   "source": [
    "## PRE-PROCESSING "
   ]
  },
  {
   "cell_type": "code",
   "execution_count": 162,
   "metadata": {},
   "outputs": [
    {
     "data": {
      "text/plain": [
       "Age                         22\n",
       "Attrition                    0\n",
       "BusinessTravel               0\n",
       "DailyRate                    0\n",
       "Department                  22\n",
       "DistanceFromHome             0\n",
       "Education                    0\n",
       "EducationField              15\n",
       "EmployeeCount                0\n",
       "EmployeeNumber               0\n",
       "EnvironmentSatisfaction      0\n",
       "Gender                       0\n",
       "HourlyRate                   0\n",
       "JobInvolvement               0\n",
       "JobLevel                     0\n",
       "JobRole                      0\n",
       "JobSatisfaction             32\n",
       "MaritalStatus               22\n",
       "MonthlyIncome                0\n",
       "MonthlyRate                  0\n",
       "NumCompaniesWorked           0\n",
       "Over18                       0\n",
       "OverTime                    12\n",
       "PercentSalaryHike            0\n",
       "PerformanceRating            1\n",
       "RelationshipSatisfaction     0\n",
       "StandardHours                1\n",
       "StockOptionLevel             1\n",
       "TotalWorkingYears            3\n",
       "TrainingTimesLastYear        2\n",
       "WorkLifeBalance              0\n",
       "YearsAtCompany               2\n",
       "YearsInCurrentRole           9\n",
       "YearsSinceLastPromotion      0\n",
       "YearsWithCurrManager        15\n",
       "dtype: int64"
      ]
     },
     "execution_count": 162,
     "metadata": {},
     "output_type": "execute_result"
    }
   ],
   "source": [
    "df=pd.read_csv(\"data.csv\") # READING THE CSV FILE \n",
    "df.isnull().sum() # CHECKING FOR NULL OR NAN VALUES"
   ]
  },
  {
   "cell_type": "code",
   "execution_count": 163,
   "metadata": {},
   "outputs": [
    {
     "data": {
      "text/html": [
       "<div>\n",
       "<style scoped>\n",
       "    .dataframe tbody tr th:only-of-type {\n",
       "        vertical-align: middle;\n",
       "    }\n",
       "\n",
       "    .dataframe tbody tr th {\n",
       "        vertical-align: top;\n",
       "    }\n",
       "\n",
       "    .dataframe thead th {\n",
       "        text-align: right;\n",
       "    }\n",
       "</style>\n",
       "<table border=\"1\" class=\"dataframe\">\n",
       "  <thead>\n",
       "    <tr style=\"text-align: right;\">\n",
       "      <th></th>\n",
       "      <th>Age</th>\n",
       "      <th>Attrition</th>\n",
       "      <th>BusinessTravel</th>\n",
       "      <th>DailyRate</th>\n",
       "      <th>Department</th>\n",
       "      <th>DistanceFromHome</th>\n",
       "      <th>Education</th>\n",
       "      <th>EducationField</th>\n",
       "      <th>EmployeeCount</th>\n",
       "      <th>EmployeeNumber</th>\n",
       "      <th>...</th>\n",
       "      <th>RelationshipSatisfaction</th>\n",
       "      <th>StandardHours</th>\n",
       "      <th>StockOptionLevel</th>\n",
       "      <th>TotalWorkingYears</th>\n",
       "      <th>TrainingTimesLastYear</th>\n",
       "      <th>WorkLifeBalance</th>\n",
       "      <th>YearsAtCompany</th>\n",
       "      <th>YearsInCurrentRole</th>\n",
       "      <th>YearsSinceLastPromotion</th>\n",
       "      <th>YearsWithCurrManager</th>\n",
       "    </tr>\n",
       "  </thead>\n",
       "  <tbody>\n",
       "    <tr>\n",
       "      <td>0</td>\n",
       "      <td>41.0</td>\n",
       "      <td>Yes</td>\n",
       "      <td>Travel_Rarely</td>\n",
       "      <td>1102</td>\n",
       "      <td>Sales</td>\n",
       "      <td>1</td>\n",
       "      <td>2</td>\n",
       "      <td>Life Sciences</td>\n",
       "      <td>1</td>\n",
       "      <td>1</td>\n",
       "      <td>...</td>\n",
       "      <td>1</td>\n",
       "      <td>80.0</td>\n",
       "      <td>0.0</td>\n",
       "      <td>8.0</td>\n",
       "      <td>0.0</td>\n",
       "      <td>1</td>\n",
       "      <td>6.0</td>\n",
       "      <td>4.0</td>\n",
       "      <td>0</td>\n",
       "      <td>5.0</td>\n",
       "    </tr>\n",
       "    <tr>\n",
       "      <td>1</td>\n",
       "      <td>49.0</td>\n",
       "      <td>No</td>\n",
       "      <td>Travel_Frequently</td>\n",
       "      <td>279</td>\n",
       "      <td>Research &amp; Development</td>\n",
       "      <td>8</td>\n",
       "      <td>1</td>\n",
       "      <td>Life Sciences</td>\n",
       "      <td>1</td>\n",
       "      <td>2</td>\n",
       "      <td>...</td>\n",
       "      <td>4</td>\n",
       "      <td>80.0</td>\n",
       "      <td>1.0</td>\n",
       "      <td>10.0</td>\n",
       "      <td>3.0</td>\n",
       "      <td>3</td>\n",
       "      <td>10.0</td>\n",
       "      <td>7.0</td>\n",
       "      <td>1</td>\n",
       "      <td>7.0</td>\n",
       "    </tr>\n",
       "    <tr>\n",
       "      <td>2</td>\n",
       "      <td>37.0</td>\n",
       "      <td>Yes</td>\n",
       "      <td>Travel_Rarely</td>\n",
       "      <td>1373</td>\n",
       "      <td>Research &amp; Development</td>\n",
       "      <td>2</td>\n",
       "      <td>2</td>\n",
       "      <td>Other</td>\n",
       "      <td>1</td>\n",
       "      <td>4</td>\n",
       "      <td>...</td>\n",
       "      <td>2</td>\n",
       "      <td>80.0</td>\n",
       "      <td>0.0</td>\n",
       "      <td>7.0</td>\n",
       "      <td>3.0</td>\n",
       "      <td>3</td>\n",
       "      <td>0.0</td>\n",
       "      <td>NaN</td>\n",
       "      <td>0</td>\n",
       "      <td>0.0</td>\n",
       "    </tr>\n",
       "    <tr>\n",
       "      <td>3</td>\n",
       "      <td>33.0</td>\n",
       "      <td>No</td>\n",
       "      <td>Travel_Frequently</td>\n",
       "      <td>1392</td>\n",
       "      <td>Research &amp; Development</td>\n",
       "      <td>3</td>\n",
       "      <td>4</td>\n",
       "      <td>Life Sciences</td>\n",
       "      <td>1</td>\n",
       "      <td>5</td>\n",
       "      <td>...</td>\n",
       "      <td>3</td>\n",
       "      <td>NaN</td>\n",
       "      <td>0.0</td>\n",
       "      <td>8.0</td>\n",
       "      <td>3.0</td>\n",
       "      <td>3</td>\n",
       "      <td>8.0</td>\n",
       "      <td>7.0</td>\n",
       "      <td>3</td>\n",
       "      <td>0.0</td>\n",
       "    </tr>\n",
       "    <tr>\n",
       "      <td>4</td>\n",
       "      <td>27.0</td>\n",
       "      <td>No</td>\n",
       "      <td>Travel_Rarely</td>\n",
       "      <td>591</td>\n",
       "      <td>Research &amp; Development</td>\n",
       "      <td>2</td>\n",
       "      <td>1</td>\n",
       "      <td>Medical</td>\n",
       "      <td>1</td>\n",
       "      <td>7</td>\n",
       "      <td>...</td>\n",
       "      <td>4</td>\n",
       "      <td>80.0</td>\n",
       "      <td>1.0</td>\n",
       "      <td>6.0</td>\n",
       "      <td>3.0</td>\n",
       "      <td>3</td>\n",
       "      <td>2.0</td>\n",
       "      <td>2.0</td>\n",
       "      <td>2</td>\n",
       "      <td>2.0</td>\n",
       "    </tr>\n",
       "  </tbody>\n",
       "</table>\n",
       "<p>5 rows × 35 columns</p>\n",
       "</div>"
      ],
      "text/plain": [
       "    Age Attrition     BusinessTravel  DailyRate              Department  \\\n",
       "0  41.0       Yes      Travel_Rarely       1102                   Sales   \n",
       "1  49.0        No  Travel_Frequently        279  Research & Development   \n",
       "2  37.0       Yes      Travel_Rarely       1373  Research & Development   \n",
       "3  33.0        No  Travel_Frequently       1392  Research & Development   \n",
       "4  27.0        No      Travel_Rarely        591  Research & Development   \n",
       "\n",
       "   DistanceFromHome  Education EducationField  EmployeeCount  EmployeeNumber  \\\n",
       "0                 1          2  Life Sciences              1               1   \n",
       "1                 8          1  Life Sciences              1               2   \n",
       "2                 2          2          Other              1               4   \n",
       "3                 3          4  Life Sciences              1               5   \n",
       "4                 2          1        Medical              1               7   \n",
       "\n",
       "   ...  RelationshipSatisfaction StandardHours  StockOptionLevel  \\\n",
       "0  ...                         1          80.0               0.0   \n",
       "1  ...                         4          80.0               1.0   \n",
       "2  ...                         2          80.0               0.0   \n",
       "3  ...                         3           NaN               0.0   \n",
       "4  ...                         4          80.0               1.0   \n",
       "\n",
       "   TotalWorkingYears  TrainingTimesLastYear WorkLifeBalance  YearsAtCompany  \\\n",
       "0                8.0                    0.0               1             6.0   \n",
       "1               10.0                    3.0               3            10.0   \n",
       "2                7.0                    3.0               3             0.0   \n",
       "3                8.0                    3.0               3             8.0   \n",
       "4                6.0                    3.0               3             2.0   \n",
       "\n",
       "  YearsInCurrentRole  YearsSinceLastPromotion  YearsWithCurrManager  \n",
       "0                4.0                        0                   5.0  \n",
       "1                7.0                        1                   7.0  \n",
       "2                NaN                        0                   0.0  \n",
       "3                7.0                        3                   0.0  \n",
       "4                2.0                        2                   2.0  \n",
       "\n",
       "[5 rows x 35 columns]"
      ]
     },
     "execution_count": 163,
     "metadata": {},
     "output_type": "execute_result"
    }
   ],
   "source": [
    "df.head() \n"
   ]
  },
  {
   "cell_type": "code",
   "execution_count": 164,
   "metadata": {},
   "outputs": [
    {
     "data": {
      "text/plain": [
       "Age                         float64\n",
       "Attrition                    object\n",
       "BusinessTravel               object\n",
       "DailyRate                     int64\n",
       "Department                   object\n",
       "DistanceFromHome              int64\n",
       "Education                     int64\n",
       "EducationField               object\n",
       "EmployeeCount                 int64\n",
       "EmployeeNumber                int64\n",
       "EnvironmentSatisfaction       int64\n",
       "Gender                       object\n",
       "HourlyRate                    int64\n",
       "JobInvolvement                int64\n",
       "JobLevel                      int64\n",
       "JobRole                      object\n",
       "JobSatisfaction             float64\n",
       "MaritalStatus                object\n",
       "MonthlyIncome                 int64\n",
       "MonthlyRate                   int64\n",
       "NumCompaniesWorked            int64\n",
       "Over18                       object\n",
       "OverTime                     object\n",
       "PercentSalaryHike             int64\n",
       "PerformanceRating           float64\n",
       "RelationshipSatisfaction      int64\n",
       "StandardHours               float64\n",
       "StockOptionLevel            float64\n",
       "TotalWorkingYears           float64\n",
       "TrainingTimesLastYear       float64\n",
       "WorkLifeBalance               int64\n",
       "YearsAtCompany              float64\n",
       "YearsInCurrentRole          float64\n",
       "YearsSinceLastPromotion       int64\n",
       "YearsWithCurrManager        float64\n",
       "dtype: object"
      ]
     },
     "execution_count": 164,
     "metadata": {},
     "output_type": "execute_result"
    }
   ],
   "source": [
    "df.dtypes # Datatype of each attribute where Attrition is the target variable "
   ]
  },
  {
   "cell_type": "code",
   "execution_count": 165,
   "metadata": {},
   "outputs": [
    {
     "data": {
      "text/plain": [
       "Index(['Age', 'Attrition', 'BusinessTravel', 'DailyRate', 'Department',\n",
       "       'DistanceFromHome', 'Education', 'EducationField', 'EmployeeCount',\n",
       "       'EmployeeNumber', 'EnvironmentSatisfaction', 'Gender', 'HourlyRate',\n",
       "       'JobInvolvement', 'JobLevel', 'JobRole', 'JobSatisfaction',\n",
       "       'MaritalStatus', 'MonthlyIncome', 'MonthlyRate', 'NumCompaniesWorked',\n",
       "       'Over18', 'OverTime', 'PercentSalaryHike', 'PerformanceRating',\n",
       "       'RelationshipSatisfaction', 'StandardHours', 'StockOptionLevel',\n",
       "       'TotalWorkingYears', 'TrainingTimesLastYear', 'WorkLifeBalance',\n",
       "       'YearsAtCompany', 'YearsInCurrentRole', 'YearsSinceLastPromotion',\n",
       "       'YearsWithCurrManager'],\n",
       "      dtype='object')"
      ]
     },
     "execution_count": 165,
     "metadata": {},
     "output_type": "execute_result"
    }
   ],
   "source": [
    "df.columns # the attributes "
   ]
  },
  {
   "cell_type": "code",
   "execution_count": 166,
   "metadata": {},
   "outputs": [
    {
     "data": {
      "text/plain": [
       "array([[<matplotlib.axes._subplots.AxesSubplot object at 0x7fad15e2bf90>,\n",
       "        <matplotlib.axes._subplots.AxesSubplot object at 0x7fad1664c590>,\n",
       "        <matplotlib.axes._subplots.AxesSubplot object at 0x7fad16687890>,\n",
       "        <matplotlib.axes._subplots.AxesSubplot object at 0x7fad16418b90>,\n",
       "        <matplotlib.axes._subplots.AxesSubplot object at 0x7fad164a7e90>],\n",
       "       [<matplotlib.axes._subplots.AxesSubplot object at 0x7fad13b3f1d0>,\n",
       "        <matplotlib.axes._subplots.AxesSubplot object at 0x7fad13b78790>,\n",
       "        <matplotlib.axes._subplots.AxesSubplot object at 0x7fad13baf7d0>,\n",
       "        <matplotlib.axes._subplots.AxesSubplot object at 0x7fad13bb9550>,\n",
       "        <matplotlib.axes._subplots.AxesSubplot object at 0x7fad164ec910>],\n",
       "       [<matplotlib.axes._subplots.AxesSubplot object at 0x7fad1655c110>,\n",
       "        <matplotlib.axes._subplots.AxesSubplot object at 0x7fad16595410>,\n",
       "        <matplotlib.axes._subplots.AxesSubplot object at 0x7fad165cd710>,\n",
       "        <matplotlib.axes._subplots.AxesSubplot object at 0x7fad16604a10>,\n",
       "        <matplotlib.axes._subplots.AxesSubplot object at 0x7fad16d11d10>],\n",
       "       [<matplotlib.axes._subplots.AxesSubplot object at 0x7fad16d54050>,\n",
       "        <matplotlib.axes._subplots.AxesSubplot object at 0x7fad16d8e350>,\n",
       "        <matplotlib.axes._subplots.AxesSubplot object at 0x7fad16dc6650>,\n",
       "        <matplotlib.axes._subplots.AxesSubplot object at 0x7fad16dfe950>,\n",
       "        <matplotlib.axes._subplots.AxesSubplot object at 0x7fad16e35c50>],\n",
       "       [<matplotlib.axes._subplots.AxesSubplot object at 0x7fad16e6bf50>,\n",
       "        <matplotlib.axes._subplots.AxesSubplot object at 0x7fad16eb2290>,\n",
       "        <matplotlib.axes._subplots.AxesSubplot object at 0x7fad16eec590>,\n",
       "        <matplotlib.axes._subplots.AxesSubplot object at 0x7fad16f1ed10>,\n",
       "        <matplotlib.axes._subplots.AxesSubplot object at 0x7fad16f62550>],\n",
       "       [<matplotlib.axes._subplots.AxesSubplot object at 0x7fad16f94d50>,\n",
       "        <matplotlib.axes._subplots.AxesSubplot object at 0x7fad16fd6590>,\n",
       "        <matplotlib.axes._subplots.AxesSubplot object at 0x7fad17009d90>,\n",
       "        <matplotlib.axes._subplots.AxesSubplot object at 0x7fad15d69250>,\n",
       "        <matplotlib.axes._subplots.AxesSubplot object at 0x7fad15d06550>]],\n",
       "      dtype=object)"
      ]
     },
     "execution_count": 166,
     "metadata": {},
     "output_type": "execute_result"
    },
    {
     "data": {
      "image/png": "[encoded data removed]",
      "text/plain": [
       "<Figure size 1440x1440 with 30 Axes>"
      ]
     },
     "metadata": {
      "needs_background": "light"
     },
     "output_type": "display_data"
    }
   ],
   "source": [
    "df.hist(figsize=(20,20)) # Histogram representation "
   ]
  },
  {
   "cell_type": "code",
   "execution_count": 167,
   "metadata": {},
   "outputs": [
    {
     "data": {
      "text/plain": [
       "<matplotlib.axes._subplots.AxesSubplot at 0x7fad17958410>"
      ]
     },
     "execution_count": 167,
     "metadata": {},
     "output_type": "execute_result"
    },
    {
     "data": {
      "image/png": "[encoded data removed]",
      "text/plain": [
       "<Figure size 432x288 with 1 Axes>"
      ]
     },
     "metadata": {
      "needs_background": "light"
     },
     "output_type": "display_data"
    }
   ],
   "source": [
    "sns.heatmap(df.isnull(),cbar=False) # heatmap for null values "
   ]
  },
  {
   "cell_type": "code",
   "execution_count": 168,
   "metadata": {},
   "outputs": [
    {
     "data": {
      "text/plain": [
       "Life Sciences       602\n",
       "Medical             460\n",
       "Marketing           156\n",
       "Technical Degree    130\n",
       "Other                80\n",
       "Human Resources      27\n",
       "Name: EducationField, dtype: int64"
      ]
     },
     "execution_count": 168,
     "metadata": {},
     "output_type": "execute_result"
    }
   ],
   "source": [
    "df[\"EducationField\"].value_counts()\n"
   ]
  },
  {
   "cell_type": "code",
   "execution_count": 169,
   "metadata": {},
   "outputs": [],
   "source": [
    "df.EducationField.fillna(method=\"ffill\", inplace=True)"
   ]
  },
  {
   "cell_type": "code",
   "execution_count": 170,
   "metadata": {},
   "outputs": [],
   "source": [
    "df.Age=df.Age.fillna(df.Age.mean())"
   ]
  },
  {
   "cell_type": "code",
   "execution_count": 171,
   "metadata": {},
   "outputs": [],
   "source": [
    "df.Department=df.Department.fillna(df.Department.mode()[0])"
   ]
  },
  {
   "cell_type": "code",
   "execution_count": 172,
   "metadata": {},
   "outputs": [],
   "source": [
    "df.MaritalStatus=df.MaritalStatus.fillna(method=\"bfill\")"
   ]
  },
  {
   "cell_type": "code",
   "execution_count": 173,
   "metadata": {},
   "outputs": [],
   "source": [
    "df.JobSatisfaction=df.JobSatisfaction.fillna(df.JobSatisfaction.mean())"
   ]
  },
  {
   "cell_type": "code",
   "execution_count": 174,
   "metadata": {},
   "outputs": [],
   "source": [
    "df.OverTime=df.OverTime.fillna(df.OverTime.mode()[0])"
   ]
  },
  {
   "cell_type": "code",
   "execution_count": 175,
   "metadata": {},
   "outputs": [],
   "source": [
    "df.StandardHours=df.StandardHours.fillna(df.StandardHours.mode()[0])"
   ]
  },
  {
   "cell_type": "code",
   "execution_count": 176,
   "metadata": {},
   "outputs": [],
   "source": [
    "df.YearsWithCurrManager=df.YearsWithCurrManager.fillna(df.YearsWithCurrManager.mean())"
   ]
  },
  {
   "cell_type": "code",
   "execution_count": 177,
   "metadata": {},
   "outputs": [],
   "source": [
    "df.TotalWorkingYears=df.TotalWorkingYears.fillna(df.TotalWorkingYears.mean())"
   ]
  },
  {
   "cell_type": "code",
   "execution_count": 178,
   "metadata": {},
   "outputs": [],
   "source": [
    "df.TrainingTimesLastYear=df.TrainingTimesLastYear.fillna(df.TrainingTimesLastYear.mean())"
   ]
  },
  {
   "cell_type": "code",
   "execution_count": 179,
   "metadata": {},
   "outputs": [],
   "source": [
    "df.YearsAtCompany=df.YearsAtCompany.fillna(df.YearsAtCompany.mean())"
   ]
  },
  {
   "cell_type": "code",
   "execution_count": 180,
   "metadata": {},
   "outputs": [],
   "source": [
    "df.PerformanceRating = df.PerformanceRating.fillna(df.PerformanceRating.mean())\n",
    "df.StockOptionLevel =df.StockOptionLevel.fillna(df.StockOptionLevel.mean())\n"
   ]
  },
  {
   "cell_type": "code",
   "execution_count": 181,
   "metadata": {},
   "outputs": [],
   "source": [
    "df.YearsInCurrentRole=df.YearsInCurrentRole.fillna(df.YearsInCurrentRole.mean())"
   ]
  },
  {
   "cell_type": "code",
   "execution_count": 182,
   "metadata": {},
   "outputs": [
    {
     "data": {
      "text/plain": [
       "Age                         0\n",
       "Attrition                   0\n",
       "BusinessTravel              0\n",
       "DailyRate                   0\n",
       "Department                  0\n",
       "DistanceFromHome            0\n",
       "Education                   0\n",
       "EducationField              0\n",
       "EmployeeCount               0\n",
       "EmployeeNumber              0\n",
       "EnvironmentSatisfaction     0\n",
       "Gender                      0\n",
       "HourlyRate                  0\n",
       "JobInvolvement              0\n",
       "JobLevel                    0\n",
       "JobRole                     0\n",
       "JobSatisfaction             0\n",
       "MaritalStatus               0\n",
       "MonthlyIncome               0\n",
       "MonthlyRate                 0\n",
       "NumCompaniesWorked          0\n",
       "Over18                      0\n",
       "OverTime                    0\n",
       "PercentSalaryHike           0\n",
       "PerformanceRating           0\n",
       "RelationshipSatisfaction    0\n",
       "StandardHours               0\n",
       "StockOptionLevel            0\n",
       "TotalWorkingYears           0\n",
       "TrainingTimesLastYear       0\n",
       "WorkLifeBalance             0\n",
       "YearsAtCompany              0\n",
       "YearsInCurrentRole          0\n",
       "YearsSinceLastPromotion     0\n",
       "YearsWithCurrManager        0\n",
       "dtype: int64"
      ]
     },
     "execution_count": 182,
     "metadata": {},
     "output_type": "execute_result"
    }
   ],
   "source": [
    "df.isnull().sum()\n"
   ]
  },
  {
   "cell_type": "code",
   "execution_count": 183,
   "metadata": {},
   "outputs": [
    {
     "data": {
      "text/plain": [
       "<matplotlib.axes._subplots.AxesSubplot at 0x7fad17ea7990>"
      ]
     },
     "execution_count": 183,
     "metadata": {},
     "output_type": "execute_result"
    },
    {
     "data": {
      "image/png": "[encoded data removed]",
      "text/plain": [
       "<Figure size 432x288 with 1 Axes>"
      ]
     },
     "metadata": {
      "needs_background": "light"
     },
     "output_type": "display_data"
    }
   ],
   "source": [
    "sns.heatmap(df.isnull(),cbar=False)"
   ]
  },
  {
   "cell_type": "markdown",
   "metadata": {},
   "source": [
    "## DATA VISUALISATIONS "
   ]
  },
  {
   "cell_type": "code",
   "execution_count": 184,
   "metadata": {},
   "outputs": [],
   "source": [
    "df_copy = df.copy()\n",
    "df_copy['Target'] = df_copy['Attrition'].apply(lambda x: 0 if x == 'No' else 1)"
   ]
  },
  {
   "cell_type": "code",
   "execution_count": 185,
   "metadata": {},
   "outputs": [],
   "source": [
    "correlations=df_copy.corr()['Target'].sort_values()\n",
    "corr = df_copy.corr()\n",
    "mask = np.zeros_like(corr)\n",
    "mask[np.triu_indices_from(mask)] = True"
   ]
  },
  {
   "cell_type": "code",
   "execution_count": 186,
   "metadata": {},
   "outputs": [
    {
     "data": {
      "text/plain": [
       "<matplotlib.axes._subplots.AxesSubplot at 0x7fad16109a10>"
      ]
     },
     "execution_count": 186,
     "metadata": {},
     "output_type": "execute_result"
    },
    {
     "data": {
      "image/png": "[encoded data removed]",
      "text/plain": [
       "<Figure size 1080x720 with 2 Axes>"
      ]
     },
     "metadata": {
      "needs_background": "light"
     },
     "output_type": "display_data"
    }
   ],
   "source": [
    "plt.figure(figsize=(15, 10))\n",
    "sns.heatmap(corr,\n",
    "            vmax=.5,\n",
    "            mask=mask,\n",
    "            linewidths=.2, cmap=\"YlGnBu\")"
   ]
  },
  {
   "cell_type": "code",
   "execution_count": 187,
   "metadata": {},
   "outputs": [
    {
     "data": {
      "text/plain": [
       "<matplotlib.axes._subplots.AxesSubplot at 0x7fad1796d810>"
      ]
     },
     "execution_count": 187,
     "metadata": {},
     "output_type": "execute_result"
    },
    {
     "data": {
      "image/png": "[encoded data removed]",
      "text/plain": [
       "<Figure size 1152x648 with 2 Axes>"
      ]
     },
     "metadata": {
      "needs_background": "light"
     },
     "output_type": "display_data"
    }
   ],
   "source": [
    "corr = df_copy.corr()\n",
    "f,ax = plt.subplots(figsize=(16,9))\n",
    "sns.heatmap(corr, vmax = 0.8,square ='TRUE' )"
   ]
  },
  {
   "cell_type": "code",
   "execution_count": 188,
   "metadata": {},
   "outputs": [
    {
     "data": {
      "text/plain": [
       "<matplotlib.axes._subplots.AxesSubplot at 0x7fad183b6290>"
      ]
     },
     "execution_count": 188,
     "metadata": {},
     "output_type": "execute_result"
    },
    {
     "data": {
      "image/png": "[encoded data removed]",
      "text/plain": [
       "<Figure size 432x288 with 1 Axes>"
      ]
     },
     "metadata": {
      "needs_background": "light"
     },
     "output_type": "display_data"
    }
   ],
   "source": [
    "# distplot for the age attribute \n",
    "sns.distplot(df_copy['Age'])\n"
   ]
  },
  {
   "cell_type": "code",
   "execution_count": 189,
   "metadata": {},
   "outputs": [
    {
     "data": {
      "text/plain": [
       "<matplotlib.axes._subplots.AxesSubplot at 0x7fad1860a0d0>"
      ]
     },
     "execution_count": 189,
     "metadata": {},
     "output_type": "execute_result"
    },
    {
     "data": {
      "image/png": "[encoded data removed]",
      "text/plain": [
       "<Figure size 432x288 with 1 Axes>"
      ]
     },
     "metadata": {
      "needs_background": "light"
     },
     "output_type": "display_data"
    }
   ],
   "source": [
    "#How satisfied the employees are?\n",
    "sns.scatterplot(x= df_copy['MonthlyIncome'], y = df_copy['TotalWorkingYears'], hue = df_copy['Target'])"
   ]
  },
  {
   "cell_type": "code",
   "execution_count": 190,
   "metadata": {},
   "outputs": [
    {
     "data": {
      "text/plain": [
       "<matplotlib.axes._subplots.AxesSubplot at 0x7fad1870ded0>"
      ]
     },
     "execution_count": 190,
     "metadata": {},
     "output_type": "execute_result"
    },
    {
     "data": {
      "image/png": "[encoded data removed]",
      "text/plain": [
       "<Figure size 432x288 with 1 Axes>"
      ]
     },
     "metadata": {
      "needs_background": "light"
     },
     "output_type": "display_data"
    }
   ],
   "source": [
    "#How many of them satisfied with the job\n",
    "\n",
    "sns.barplot(y=df_copy['JobRole'], x=df_copy['JobSatisfaction'],estimator = np.mean, data = df_copy)"
   ]
  },
  {
   "cell_type": "code",
   "execution_count": 191,
   "metadata": {},
   "outputs": [],
   "source": [
    "for i in df_copy.columns:\n",
    "    if df_copy[i].dtype == df_copy[\"YearsWithCurrManager\"].dtype:\n",
    "        df_copy[i]=df_copy[i].astype(\"int\")"
   ]
  },
  {
   "cell_type": "code",
   "execution_count": 192,
   "metadata": {},
   "outputs": [],
   "source": [
    "# USE df_copy for dataframe , Target column as Attrition column "
   ]
  },
  {
   "cell_type": "code",
   "execution_count": 193,
   "metadata": {},
   "outputs": [
    {
     "data": {
      "text/plain": [
       "<matplotlib.axes._subplots.AxesSubplot at 0x7fad1884dd50>"
      ]
     },
     "execution_count": 193,
     "metadata": {},
     "output_type": "execute_result"
    },
    {
     "data": {
      "image/png": "[encoded data removed]",
      "text/plain": [
       "<Figure size 432x288 with 2 Axes>"
      ]
     },
     "metadata": {
      "needs_background": "light"
     },
     "output_type": "display_data"
    }
   ],
   "source": [
    "fig, ax = plt.subplots(1,2)\n",
    "fig.subplots_adjust(wspace=1)\n",
    "\n",
    "sns.boxplot(x='Gender', y='MonthlyIncome', data=df_copy, ax=ax[0])\n",
    "sns.boxplot(x='MaritalStatus', y='MonthlyIncome', data=df_copy, ax=ax[1])"
   ]
  },
  {
   "cell_type": "code",
   "execution_count": 194,
   "metadata": {},
   "outputs": [
    {
     "data": {
      "text/plain": [
       "<matplotlib.axes._subplots.AxesSubplot at 0x7fad13d29090>"
      ]
     },
     "execution_count": 194,
     "metadata": {},
     "output_type": "execute_result"
    },
    {
     "data": {
      "image/png": "[encoded data removed]",
      "text/plain": [
       "<Figure size 432x288 with 2 Axes>"
      ]
     },
     "metadata": {
      "needs_background": "light"
     },
     "output_type": "display_data"
    }
   ],
   "source": [
    "fig, ax = plt.subplots(2,1)\n",
    "fig.subplots_adjust(hspace=0.33)\n",
    "\n",
    "sns.boxplot(x='MonthlyIncome', y='EducationField', data=df_copy, ax=ax[0])\n",
    "sns.boxplot(x='MonthlyIncome', y='JobRole', data=df_copy, ax=ax[1])"
   ]
  },
  {
   "cell_type": "code",
   "execution_count": 195,
   "metadata": {},
   "outputs": [
    {
     "data": {
      "text/plain": [
       "<matplotlib.axes._subplots.AxesSubplot at 0x7fad170f5190>"
      ]
     },
     "execution_count": 195,
     "metadata": {},
     "output_type": "execute_result"
    },
    {
     "data": {
      "image/png": "[encoded data removed]",
      "text/plain": [
       "<Figure size 432x288 with 1 Axes>"
      ]
     },
     "metadata": {
      "needs_background": "light"
     },
     "output_type": "display_data"
    }
   ],
   "source": [
    "sns.boxplot(df_copy['TotalWorkingYears'],df_copy['Attrition'],df_copy['Education'])"
   ]
  },
  {
   "cell_type": "code",
   "execution_count": 196,
   "metadata": {},
   "outputs": [
    {
     "data": {
      "text/html": [
       "<div>\n",
       "<style scoped>\n",
       "    .dataframe tbody tr th:only-of-type {\n",
       "        vertical-align: middle;\n",
       "    }\n",
       "\n",
       "    .dataframe tbody tr th {\n",
       "        vertical-align: top;\n",
       "    }\n",
       "\n",
       "    .dataframe thead th {\n",
       "        text-align: right;\n",
       "    }\n",
       "</style>\n",
       "<table border=\"1\" class=\"dataframe\">\n",
       "  <thead>\n",
       "    <tr style=\"text-align: right;\">\n",
       "      <th></th>\n",
       "      <th>Age</th>\n",
       "      <th>DailyRate</th>\n",
       "      <th>DistanceFromHome</th>\n",
       "      <th>Education</th>\n",
       "      <th>EmployeeCount</th>\n",
       "      <th>EmployeeNumber</th>\n",
       "      <th>EnvironmentSatisfaction</th>\n",
       "      <th>HourlyRate</th>\n",
       "      <th>JobInvolvement</th>\n",
       "      <th>JobLevel</th>\n",
       "      <th>...</th>\n",
       "      <th>StandardHours</th>\n",
       "      <th>StockOptionLevel</th>\n",
       "      <th>TotalWorkingYears</th>\n",
       "      <th>TrainingTimesLastYear</th>\n",
       "      <th>WorkLifeBalance</th>\n",
       "      <th>YearsAtCompany</th>\n",
       "      <th>YearsInCurrentRole</th>\n",
       "      <th>YearsSinceLastPromotion</th>\n",
       "      <th>YearsWithCurrManager</th>\n",
       "      <th>Target</th>\n",
       "    </tr>\n",
       "  </thead>\n",
       "  <tbody>\n",
       "    <tr>\n",
       "      <td>count</td>\n",
       "      <td>1470.000000</td>\n",
       "      <td>1470.000000</td>\n",
       "      <td>1470.000000</td>\n",
       "      <td>1470.000000</td>\n",
       "      <td>1470.0</td>\n",
       "      <td>1470.000000</td>\n",
       "      <td>1470.000000</td>\n",
       "      <td>1470.000000</td>\n",
       "      <td>1470.000000</td>\n",
       "      <td>1470.000000</td>\n",
       "      <td>...</td>\n",
       "      <td>1470.0</td>\n",
       "      <td>1470.000000</td>\n",
       "      <td>1470.000000</td>\n",
       "      <td>1470.000000</td>\n",
       "      <td>1470.000000</td>\n",
       "      <td>1470.000000</td>\n",
       "      <td>1470.000000</td>\n",
       "      <td>1470.000000</td>\n",
       "      <td>1470.000000</td>\n",
       "      <td>1470.000000</td>\n",
       "    </tr>\n",
       "    <tr>\n",
       "      <td>mean</td>\n",
       "      <td>36.911565</td>\n",
       "      <td>802.485714</td>\n",
       "      <td>9.192517</td>\n",
       "      <td>2.912925</td>\n",
       "      <td>1.0</td>\n",
       "      <td>1024.865306</td>\n",
       "      <td>2.721769</td>\n",
       "      <td>65.891156</td>\n",
       "      <td>2.729932</td>\n",
       "      <td>2.063946</td>\n",
       "      <td>...</td>\n",
       "      <td>80.0</td>\n",
       "      <td>0.791837</td>\n",
       "      <td>11.287075</td>\n",
       "      <td>2.798639</td>\n",
       "      <td>2.761224</td>\n",
       "      <td>7.011565</td>\n",
       "      <td>4.239456</td>\n",
       "      <td>2.187755</td>\n",
       "      <td>4.130612</td>\n",
       "      <td>0.161224</td>\n",
       "    </tr>\n",
       "    <tr>\n",
       "      <td>std</td>\n",
       "      <td>9.076878</td>\n",
       "      <td>403.509100</td>\n",
       "      <td>8.106864</td>\n",
       "      <td>1.024165</td>\n",
       "      <td>0.0</td>\n",
       "      <td>602.024335</td>\n",
       "      <td>1.093082</td>\n",
       "      <td>20.329428</td>\n",
       "      <td>0.711561</td>\n",
       "      <td>1.106940</td>\n",
       "      <td>...</td>\n",
       "      <td>0.0</td>\n",
       "      <td>0.850380</td>\n",
       "      <td>7.777840</td>\n",
       "      <td>1.289428</td>\n",
       "      <td>0.706476</td>\n",
       "      <td>6.124464</td>\n",
       "      <td>3.616740</td>\n",
       "      <td>3.222430</td>\n",
       "      <td>3.556499</td>\n",
       "      <td>0.367863</td>\n",
       "    </tr>\n",
       "    <tr>\n",
       "      <td>min</td>\n",
       "      <td>18.000000</td>\n",
       "      <td>102.000000</td>\n",
       "      <td>1.000000</td>\n",
       "      <td>1.000000</td>\n",
       "      <td>1.0</td>\n",
       "      <td>1.000000</td>\n",
       "      <td>1.000000</td>\n",
       "      <td>30.000000</td>\n",
       "      <td>1.000000</td>\n",
       "      <td>1.000000</td>\n",
       "      <td>...</td>\n",
       "      <td>80.0</td>\n",
       "      <td>0.000000</td>\n",
       "      <td>0.000000</td>\n",
       "      <td>0.000000</td>\n",
       "      <td>1.000000</td>\n",
       "      <td>0.000000</td>\n",
       "      <td>0.000000</td>\n",
       "      <td>0.000000</td>\n",
       "      <td>0.000000</td>\n",
       "      <td>0.000000</td>\n",
       "    </tr>\n",
       "    <tr>\n",
       "      <td>25%</td>\n",
       "      <td>30.000000</td>\n",
       "      <td>465.000000</td>\n",
       "      <td>2.000000</td>\n",
       "      <td>2.000000</td>\n",
       "      <td>1.0</td>\n",
       "      <td>491.250000</td>\n",
       "      <td>2.000000</td>\n",
       "      <td>48.000000</td>\n",
       "      <td>2.000000</td>\n",
       "      <td>1.000000</td>\n",
       "      <td>...</td>\n",
       "      <td>80.0</td>\n",
       "      <td>0.000000</td>\n",
       "      <td>6.000000</td>\n",
       "      <td>2.000000</td>\n",
       "      <td>2.000000</td>\n",
       "      <td>3.000000</td>\n",
       "      <td>2.000000</td>\n",
       "      <td>0.000000</td>\n",
       "      <td>2.000000</td>\n",
       "      <td>0.000000</td>\n",
       "    </tr>\n",
       "    <tr>\n",
       "      <td>50%</td>\n",
       "      <td>36.000000</td>\n",
       "      <td>802.000000</td>\n",
       "      <td>7.000000</td>\n",
       "      <td>3.000000</td>\n",
       "      <td>1.0</td>\n",
       "      <td>1020.500000</td>\n",
       "      <td>3.000000</td>\n",
       "      <td>66.000000</td>\n",
       "      <td>3.000000</td>\n",
       "      <td>2.000000</td>\n",
       "      <td>...</td>\n",
       "      <td>80.0</td>\n",
       "      <td>1.000000</td>\n",
       "      <td>10.000000</td>\n",
       "      <td>3.000000</td>\n",
       "      <td>3.000000</td>\n",
       "      <td>5.000000</td>\n",
       "      <td>3.000000</td>\n",
       "      <td>1.000000</td>\n",
       "      <td>3.000000</td>\n",
       "      <td>0.000000</td>\n",
       "    </tr>\n",
       "    <tr>\n",
       "      <td>75%</td>\n",
       "      <td>43.000000</td>\n",
       "      <td>1157.000000</td>\n",
       "      <td>14.000000</td>\n",
       "      <td>4.000000</td>\n",
       "      <td>1.0</td>\n",
       "      <td>1555.750000</td>\n",
       "      <td>4.000000</td>\n",
       "      <td>83.750000</td>\n",
       "      <td>3.000000</td>\n",
       "      <td>3.000000</td>\n",
       "      <td>...</td>\n",
       "      <td>80.0</td>\n",
       "      <td>1.000000</td>\n",
       "      <td>15.000000</td>\n",
       "      <td>3.000000</td>\n",
       "      <td>3.000000</td>\n",
       "      <td>9.000000</td>\n",
       "      <td>7.000000</td>\n",
       "      <td>3.000000</td>\n",
       "      <td>7.000000</td>\n",
       "      <td>0.000000</td>\n",
       "    </tr>\n",
       "    <tr>\n",
       "      <td>max</td>\n",
       "      <td>60.000000</td>\n",
       "      <td>1499.000000</td>\n",
       "      <td>29.000000</td>\n",
       "      <td>5.000000</td>\n",
       "      <td>1.0</td>\n",
       "      <td>2068.000000</td>\n",
       "      <td>4.000000</td>\n",
       "      <td>100.000000</td>\n",
       "      <td>4.000000</td>\n",
       "      <td>5.000000</td>\n",
       "      <td>...</td>\n",
       "      <td>80.0</td>\n",
       "      <td>3.000000</td>\n",
       "      <td>40.000000</td>\n",
       "      <td>6.000000</td>\n",
       "      <td>4.000000</td>\n",
       "      <td>40.000000</td>\n",
       "      <td>18.000000</td>\n",
       "      <td>15.000000</td>\n",
       "      <td>17.000000</td>\n",
       "      <td>1.000000</td>\n",
       "    </tr>\n",
       "  </tbody>\n",
       "</table>\n",
       "<p>8 rows × 27 columns</p>\n",
       "</div>"
      ],
      "text/plain": [
       "               Age    DailyRate  DistanceFromHome    Education  EmployeeCount  \\\n",
       "count  1470.000000  1470.000000       1470.000000  1470.000000         1470.0   \n",
       "mean     36.911565   802.485714          9.192517     2.912925            1.0   \n",
       "std       9.076878   403.509100          8.106864     1.024165            0.0   \n",
       "min      18.000000   102.000000          1.000000     1.000000            1.0   \n",
       "25%      30.000000   465.000000          2.000000     2.000000            1.0   \n",
       "50%      36.000000   802.000000          7.000000     3.000000            1.0   \n",
       "75%      43.000000  1157.000000         14.000000     4.000000            1.0   \n",
       "max      60.000000  1499.000000         29.000000     5.000000            1.0   \n",
       "\n",
       "       EmployeeNumber  EnvironmentSatisfaction   HourlyRate  JobInvolvement  \\\n",
       "count     1470.000000              1470.000000  1470.000000     1470.000000   \n",
       "mean      1024.865306                 2.721769    65.891156        2.729932   \n",
       "std        602.024335                 1.093082    20.329428        0.711561   \n",
       "min          1.000000                 1.000000    30.000000        1.000000   \n",
       "25%        491.250000                 2.000000    48.000000        2.000000   \n",
       "50%       1020.500000                 3.000000    66.000000        3.000000   \n",
       "75%       1555.750000                 4.000000    83.750000        3.000000   \n",
       "max       2068.000000                 4.000000   100.000000        4.000000   \n",
       "\n",
       "          JobLevel  ...  StandardHours  StockOptionLevel  TotalWorkingYears  \\\n",
       "count  1470.000000  ...         1470.0       1470.000000        1470.000000   \n",
       "mean      2.063946  ...           80.0          0.791837          11.287075   \n",
       "std       1.106940  ...            0.0          0.850380           7.777840   \n",
       "min       1.000000  ...           80.0          0.000000           0.000000   \n",
       "25%       1.000000  ...           80.0          0.000000           6.000000   \n",
       "50%       2.000000  ...           80.0          1.000000          10.000000   \n",
       "75%       3.000000  ...           80.0          1.000000          15.000000   \n",
       "max       5.000000  ...           80.0          3.000000          40.000000   \n",
       "\n",
       "       TrainingTimesLastYear  WorkLifeBalance  YearsAtCompany  \\\n",
       "count            1470.000000      1470.000000     1470.000000   \n",
       "mean                2.798639         2.761224        7.011565   \n",
       "std                 1.289428         0.706476        6.124464   \n",
       "min                 0.000000         1.000000        0.000000   \n",
       "25%                 2.000000         2.000000        3.000000   \n",
       "50%                 3.000000         3.000000        5.000000   \n",
       "75%                 3.000000         3.000000        9.000000   \n",
       "max                 6.000000         4.000000       40.000000   \n",
       "\n",
       "       YearsInCurrentRole  YearsSinceLastPromotion  YearsWithCurrManager  \\\n",
       "count         1470.000000              1470.000000           1470.000000   \n",
       "mean             4.239456                 2.187755              4.130612   \n",
       "std              3.616740                 3.222430              3.556499   \n",
       "min              0.000000                 0.000000              0.000000   \n",
       "25%              2.000000                 0.000000              2.000000   \n",
       "50%              3.000000                 1.000000              3.000000   \n",
       "75%              7.000000                 3.000000              7.000000   \n",
       "max             18.000000                15.000000             17.000000   \n",
       "\n",
       "            Target  \n",
       "count  1470.000000  \n",
       "mean      0.161224  \n",
       "std       0.367863  \n",
       "min       0.000000  \n",
       "25%       0.000000  \n",
       "50%       0.000000  \n",
       "75%       0.000000  \n",
       "max       1.000000  \n",
       "\n",
       "[8 rows x 27 columns]"
      ]
     },
     "execution_count": 196,
     "metadata": {},
     "output_type": "execute_result"
    }
   ],
   "source": [
    "df_copy.describe()"
   ]
  },
  {
   "cell_type": "code",
   "execution_count": 197,
   "metadata": {},
   "outputs": [],
   "source": [
    "df_copy.drop('Attrition', axis=1, inplace=True)"
   ]
  },
  {
   "cell_type": "code",
   "execution_count": 198,
   "metadata": {},
   "outputs": [],
   "source": [
    "df_copy.drop([\"EmployeeCount\", \"StandardHours\"], axis=1, inplace=True)"
   ]
  },
  {
   "cell_type": "code",
   "execution_count": 199,
   "metadata": {},
   "outputs": [],
   "source": [
    "df_copy=pd.get_dummies(df_copy, drop_first=True)"
   ]
  },
  {
   "cell_type": "code",
   "execution_count": 200,
   "metadata": {},
   "outputs": [],
   "source": [
    "df_copy = df_copy[['EmployeeNumber','Age', 'DailyRate', 'DistanceFromHome', 'Education',\n",
    "       'EnvironmentSatisfaction', 'HourlyRate', 'JobInvolvement', 'JobLevel',\n",
    "       'JobSatisfaction', 'MonthlyIncome', 'MonthlyRate', 'NumCompaniesWorked',\n",
    "       'PercentSalaryHike', 'PerformanceRating', 'RelationshipSatisfaction',\n",
    "       'StockOptionLevel', 'TotalWorkingYears', 'TrainingTimesLastYear',\n",
    "       'WorkLifeBalance', 'YearsAtCompany', 'YearsInCurrentRole',\n",
    "       'YearsSinceLastPromotion', 'YearsWithCurrManager', 'Target',\n",
    "       'BusinessTravel_Travel_Frequently', 'BusinessTravel_Travel_Rarely',\n",
    "       'Department_Research & Development', 'Department_Sales',\n",
    "       'EducationField_Life Sciences', 'EducationField_Marketing',\n",
    "       'EducationField_Medical', 'EducationField_Other',\n",
    "       'EducationField_Technical Degree', 'Gender_Male',\n",
    "       'JobRole_Human Resources', 'JobRole_Laboratory Technician',\n",
    "       'JobRole_Manager', 'JobRole_Manufacturing Director',\n",
    "       'JobRole_Research Director', 'JobRole_Research Scientist',\n",
    "       'JobRole_Sales Executive', 'JobRole_Sales Representative',\n",
    "       'MaritalStatus_Married', 'MaritalStatus_Single', 'OverTime_Yes']]"
   ]
  },
  {
   "cell_type": "code",
   "execution_count": 201,
   "metadata": {},
   "outputs": [
    {
     "data": {
      "text/html": [
       "<div>\n",
       "<style scoped>\n",
       "    .dataframe tbody tr th:only-of-type {\n",
       "        vertical-align: middle;\n",
       "    }\n",
       "\n",
       "    .dataframe tbody tr th {\n",
       "        vertical-align: top;\n",
       "    }\n",
       "\n",
       "    .dataframe thead th {\n",
       "        text-align: right;\n",
       "    }\n",
       "</style>\n",
       "<table border=\"1\" class=\"dataframe\">\n",
       "  <thead>\n",
       "    <tr style=\"text-align: right;\">\n",
       "      <th></th>\n",
       "      <th>EmployeeNumber</th>\n",
       "      <th>Age</th>\n",
       "      <th>DailyRate</th>\n",
       "      <th>DistanceFromHome</th>\n",
       "      <th>Education</th>\n",
       "      <th>EnvironmentSatisfaction</th>\n",
       "      <th>HourlyRate</th>\n",
       "      <th>JobInvolvement</th>\n",
       "      <th>JobLevel</th>\n",
       "      <th>JobSatisfaction</th>\n",
       "      <th>...</th>\n",
       "      <th>JobRole_Laboratory Technician</th>\n",
       "      <th>JobRole_Manager</th>\n",
       "      <th>JobRole_Manufacturing Director</th>\n",
       "      <th>JobRole_Research Director</th>\n",
       "      <th>JobRole_Research Scientist</th>\n",
       "      <th>JobRole_Sales Executive</th>\n",
       "      <th>JobRole_Sales Representative</th>\n",
       "      <th>MaritalStatus_Married</th>\n",
       "      <th>MaritalStatus_Single</th>\n",
       "      <th>OverTime_Yes</th>\n",
       "    </tr>\n",
       "  </thead>\n",
       "  <tbody>\n",
       "    <tr>\n",
       "      <td>0</td>\n",
       "      <td>1</td>\n",
       "      <td>41</td>\n",
       "      <td>1102</td>\n",
       "      <td>1</td>\n",
       "      <td>2</td>\n",
       "      <td>2</td>\n",
       "      <td>94</td>\n",
       "      <td>3</td>\n",
       "      <td>2</td>\n",
       "      <td>4</td>\n",
       "      <td>...</td>\n",
       "      <td>0</td>\n",
       "      <td>0</td>\n",
       "      <td>0</td>\n",
       "      <td>0</td>\n",
       "      <td>0</td>\n",
       "      <td>1</td>\n",
       "      <td>0</td>\n",
       "      <td>0</td>\n",
       "      <td>1</td>\n",
       "      <td>1</td>\n",
       "    </tr>\n",
       "    <tr>\n",
       "      <td>1</td>\n",
       "      <td>2</td>\n",
       "      <td>49</td>\n",
       "      <td>279</td>\n",
       "      <td>8</td>\n",
       "      <td>1</td>\n",
       "      <td>3</td>\n",
       "      <td>61</td>\n",
       "      <td>2</td>\n",
       "      <td>2</td>\n",
       "      <td>2</td>\n",
       "      <td>...</td>\n",
       "      <td>0</td>\n",
       "      <td>0</td>\n",
       "      <td>0</td>\n",
       "      <td>0</td>\n",
       "      <td>1</td>\n",
       "      <td>0</td>\n",
       "      <td>0</td>\n",
       "      <td>1</td>\n",
       "      <td>0</td>\n",
       "      <td>0</td>\n",
       "    </tr>\n",
       "    <tr>\n",
       "      <td>2</td>\n",
       "      <td>4</td>\n",
       "      <td>37</td>\n",
       "      <td>1373</td>\n",
       "      <td>2</td>\n",
       "      <td>2</td>\n",
       "      <td>4</td>\n",
       "      <td>92</td>\n",
       "      <td>2</td>\n",
       "      <td>1</td>\n",
       "      <td>3</td>\n",
       "      <td>...</td>\n",
       "      <td>1</td>\n",
       "      <td>0</td>\n",
       "      <td>0</td>\n",
       "      <td>0</td>\n",
       "      <td>0</td>\n",
       "      <td>0</td>\n",
       "      <td>0</td>\n",
       "      <td>1</td>\n",
       "      <td>0</td>\n",
       "      <td>1</td>\n",
       "    </tr>\n",
       "    <tr>\n",
       "      <td>3</td>\n",
       "      <td>5</td>\n",
       "      <td>33</td>\n",
       "      <td>1392</td>\n",
       "      <td>3</td>\n",
       "      <td>4</td>\n",
       "      <td>4</td>\n",
       "      <td>56</td>\n",
       "      <td>3</td>\n",
       "      <td>1</td>\n",
       "      <td>3</td>\n",
       "      <td>...</td>\n",
       "      <td>0</td>\n",
       "      <td>0</td>\n",
       "      <td>0</td>\n",
       "      <td>0</td>\n",
       "      <td>1</td>\n",
       "      <td>0</td>\n",
       "      <td>0</td>\n",
       "      <td>1</td>\n",
       "      <td>0</td>\n",
       "      <td>1</td>\n",
       "    </tr>\n",
       "    <tr>\n",
       "      <td>4</td>\n",
       "      <td>7</td>\n",
       "      <td>27</td>\n",
       "      <td>591</td>\n",
       "      <td>2</td>\n",
       "      <td>1</td>\n",
       "      <td>1</td>\n",
       "      <td>40</td>\n",
       "      <td>3</td>\n",
       "      <td>1</td>\n",
       "      <td>2</td>\n",
       "      <td>...</td>\n",
       "      <td>1</td>\n",
       "      <td>0</td>\n",
       "      <td>0</td>\n",
       "      <td>0</td>\n",
       "      <td>0</td>\n",
       "      <td>0</td>\n",
       "      <td>0</td>\n",
       "      <td>1</td>\n",
       "      <td>0</td>\n",
       "      <td>0</td>\n",
       "    </tr>\n",
       "  </tbody>\n",
       "</table>\n",
       "<p>5 rows × 46 columns</p>\n",
       "</div>"
      ],
      "text/plain": [
       "   EmployeeNumber  Age  DailyRate  DistanceFromHome  Education  \\\n",
       "0               1   41       1102                 1          2   \n",
       "1               2   49        279                 8          1   \n",
       "2               4   37       1373                 2          2   \n",
       "3               5   33       1392                 3          4   \n",
       "4               7   27        591                 2          1   \n",
       "\n",
       "   EnvironmentSatisfaction  HourlyRate  JobInvolvement  JobLevel  \\\n",
       "0                        2          94               3         2   \n",
       "1                        3          61               2         2   \n",
       "2                        4          92               2         1   \n",
       "3                        4          56               3         1   \n",
       "4                        1          40               3         1   \n",
       "\n",
       "   JobSatisfaction  ...  JobRole_Laboratory Technician  JobRole_Manager  \\\n",
       "0                4  ...                              0                0   \n",
       "1                2  ...                              0                0   \n",
       "2                3  ...                              1                0   \n",
       "3                3  ...                              0                0   \n",
       "4                2  ...                              1                0   \n",
       "\n",
       "   JobRole_Manufacturing Director  JobRole_Research Director  \\\n",
       "0                               0                          0   \n",
       "1                               0                          0   \n",
       "2                               0                          0   \n",
       "3                               0                          0   \n",
       "4                               0                          0   \n",
       "\n",
       "   JobRole_Research Scientist  JobRole_Sales Executive  \\\n",
       "0                           0                        1   \n",
       "1                           1                        0   \n",
       "2                           0                        0   \n",
       "3                           1                        0   \n",
       "4                           0                        0   \n",
       "\n",
       "   JobRole_Sales Representative  MaritalStatus_Married  MaritalStatus_Single  \\\n",
       "0                             0                      0                     1   \n",
       "1                             0                      1                     0   \n",
       "2                             0                      1                     0   \n",
       "3                             0                      1                     0   \n",
       "4                             0                      1                     0   \n",
       "\n",
       "   OverTime_Yes  \n",
       "0             1  \n",
       "1             0  \n",
       "2             1  \n",
       "3             1  \n",
       "4             0  \n",
       "\n",
       "[5 rows x 46 columns]"
      ]
     },
     "execution_count": 201,
     "metadata": {},
     "output_type": "execute_result"
    }
   ],
   "source": [
    "df_copy.head()"
   ]
  },
  {
   "cell_type": "markdown",
   "metadata": {},
   "source": [
    "## DATA SCALING"
   ]
  },
  {
   "cell_type": "code",
   "execution_count": 202,
   "metadata": {},
   "outputs": [],
   "source": [
    "from sklearn.preprocessing import StandardScaler"
   ]
  },
  {
   "cell_type": "code",
   "execution_count": 203,
   "metadata": {},
   "outputs": [],
   "source": [
    "col_names = ['Age', 'DailyRate', 'DistanceFromHome', 'HourlyRate', 'MonthlyIncome',  \n",
    "                                          'MonthlyRate', 'NumCompaniesWorked', 'PercentSalaryHike',\n",
    "                                          'TotalWorkingYears', 'TrainingTimesLastYear', \n",
    "                                          'YearsAtCompany', 'YearsInCurrentRole', 'YearsSinceLastPromotion', \n",
    "                                          'YearsWithCurrManager']"
   ]
  },
  {
   "cell_type": "code",
   "execution_count": 204,
   "metadata": {},
   "outputs": [],
   "source": [
    "features=df_copy[col_names]\n",
    "sc=StandardScaler().fit(features.values)\n",
    "features=sc.transform(features.values)\n",
    "df_copy[col_names]=features"
   ]
  },
  {
   "cell_type": "markdown",
   "metadata": {},
   "source": [
    "## Choosing X and Y dataframes "
   ]
  },
  {
   "cell_type": "code",
   "execution_count": 205,
   "metadata": {},
   "outputs": [],
   "source": [
    "backup=df_copy.copy()\n",
    "df_copy.drop(\"Target\", axis=1, inplace=True)\n",
    "X=df_copy\n",
    "X = X.iloc[:,:].values\n",
    "Y = backup['Target'].to_numpy()"
   ]
  },
  {
   "cell_type": "markdown",
   "metadata": {},
   "source": [
    "## Train-Test split "
   ]
  },
  {
   "cell_type": "code",
   "execution_count": 206,
   "metadata": {},
   "outputs": [],
   "source": [
    "from sklearn.model_selection import train_test_split\n",
    "X_train, X_test, y_train, y_test = train_test_split(X,Y,test_size=0.3,random_state=0)\n"
   ]
  },
  {
   "cell_type": "code",
   "execution_count": 207,
   "metadata": {},
   "outputs": [],
   "source": [
    "test=pd.DataFrame(X_test,columns=df_copy.columns)\n",
    "test=test.iloc[:,:].values\n",
    "X_test=X_test[:,1:]\n",
    "X_train=X_train[:,1:]"
   ]
  },
  {
   "cell_type": "markdown",
   "metadata": {},
   "source": [
    "## Without PCA"
   ]
  },
  {
   "cell_type": "code",
   "execution_count": 208,
   "metadata": {},
   "outputs": [
    {
     "name": "stderr",
     "output_type": "stream",
     "text": [
      "/Users/maddisiddart/opt/anaconda3/lib/python3.7/site-packages/sklearn/svm/base.py:193: FutureWarning: The default value of gamma will change from 'auto' to 'scale' in version 0.22 to account better for unscaled features. Set gamma explicitly to 'auto' or 'scale' to avoid this warning.\n",
      "  \"avoid this warning.\", FutureWarning)\n"
     ]
    },
    {
     "name": "stdout",
     "output_type": "stream",
     "text": [
      "Train Time (seconds) of SVM without PCA: 0.3380289077758789\n"
     ]
    }
   ],
   "source": [
    "# SVM Classifier without PCA\n",
    "# TRAINING TIME \n",
    "\n",
    "start = time.time()\n",
    "\n",
    "svc = SVC(kernel = 'rbf', probability = True)\n",
    "svc.fit(X_train, y_train)\n",
    "\n",
    "end = time.time()\n",
    "svm_time = end-start\n",
    "print('Train Time (seconds) of SVM without PCA:',svm_time)"
   ]
  },
  {
   "cell_type": "code",
   "execution_count": 209,
   "metadata": {},
   "outputs": [
    {
     "name": "stdout",
     "output_type": "stream",
     "text": [
      "\n",
      "Confusion Matrix\n",
      "[[370   1]\n",
      " [ 60  10]]\n",
      "\n",
      "Classification Report\n",
      "              precision    recall  f1-score   support\n",
      "\n",
      "           0       0.86      1.00      0.92       371\n",
      "           1       0.91      0.14      0.25        70\n",
      "\n",
      "    accuracy                           0.86       441\n",
      "   macro avg       0.88      0.57      0.59       441\n",
      "weighted avg       0.87      0.86      0.82       441\n",
      "\n",
      "0.8616780045351474\n"
     ]
    }
   ],
   "source": [
    "# SVM PREDICTION \n",
    "y_pred_svc = svc.predict(X_test)\n",
    "\n",
    "confusion_matrix_svc = confusion_matrix(y_test,y_pred_svc)\n",
    "print(\"\\nConfusion Matrix\")\n",
    "print(confusion_matrix_svc)\n",
    "\n",
    "classify_svc = classification_report(y_test, y_pred_svc)\n",
    "print(\"\\nClassification Report\")\n",
    "print(classify_svc)\n",
    "\n",
    "svm_acc = accuracy_score(y_test, svc.predict(X_test))\n",
    "print(svm_acc)"
   ]
  },
  {
   "cell_type": "code",
   "execution_count": 210,
   "metadata": {},
   "outputs": [
    {
     "name": "stdout",
     "output_type": "stream",
     "text": [
      "Train Time (seconds) of Random Forest without PCA: 0.12526917457580566\n"
     ]
    }
   ],
   "source": [
    "# RANDOM FOREST TRAIN \n",
    "rf=RandomForestClassifier(n_estimators=10,criterion='entropy')\n",
    "start = time.time()\n",
    "rf.fit(X_train, y_train)\n",
    "end = time.time()\n",
    "random_forest_time = end - start\n",
    "print('Train Time (seconds) of Random Forest without PCA:',random_forest_time)\n"
   ]
  },
  {
   "cell_type": "code",
   "execution_count": 211,
   "metadata": {},
   "outputs": [
    {
     "name": "stdout",
     "output_type": "stream",
     "text": [
      "\n",
      "Confusion Matrix\n",
      "[[368   3]\n",
      " [ 58  12]]\n",
      "\n",
      "Classification Report\n",
      "              precision    recall  f1-score   support\n",
      "\n",
      "           0       0.86      0.99      0.92       371\n",
      "           1       0.80      0.17      0.28        70\n",
      "\n",
      "    accuracy                           0.86       441\n",
      "   macro avg       0.83      0.58      0.60       441\n",
      "weighted avg       0.85      0.86      0.82       441\n",
      "\n",
      "0.8616780045351474\n"
     ]
    }
   ],
   "source": [
    "# Random Forest PREDICTION \n",
    "y_pred_rfc = rf.predict(X_test)\n",
    "\n",
    "confusion_matrix_rfc = confusion_matrix(y_test,y_pred_rfc)\n",
    "print(\"\\nConfusion Matrix\")\n",
    "print(confusion_matrix_rfc)\n",
    "\n",
    "classify_rfc= classification_report(y_test, y_pred_rfc)\n",
    "print(\"\\nClassification Report\")\n",
    "print(classify_rfc)\n",
    "rf_acc = accuracy_score(y_test, rf.predict(X_test))\n",
    "print(rf_acc)"
   ]
  },
  {
   "cell_type": "code",
   "execution_count": 212,
   "metadata": {},
   "outputs": [
    {
     "name": "stdout",
     "output_type": "stream",
     "text": [
      "Train Time (seconds) of logistic regression without PCA: 0.05615687370300293\n"
     ]
    },
    {
     "name": "stderr",
     "output_type": "stream",
     "text": [
      "/Users/maddisiddart/opt/anaconda3/lib/python3.7/site-packages/sklearn/linear_model/logistic.py:432: FutureWarning: Default solver will be changed to 'lbfgs' in 0.22. Specify a solver to silence this warning.\n",
      "  FutureWarning)\n"
     ]
    }
   ],
   "source": [
    "# LOGISTIC REGRESSION TRAIN\n",
    "logreg = LogisticRegression()\n",
    "start = time.time()\n",
    "logreg.fit(X_train, y_train)\n",
    "end = time.time()\n",
    "logistic_time = end - start\n",
    "print('Train Time (seconds) of logistic regression without PCA:',logistic_time)\n",
    "\n"
   ]
  },
  {
   "cell_type": "code",
   "execution_count": 213,
   "metadata": {},
   "outputs": [
    {
     "name": "stdout",
     "output_type": "stream",
     "text": [
      "\n",
      "Confusion Matrix\n",
      "[[364   7]\n",
      " [ 40  30]]\n",
      "\n",
      "Classification Report\n",
      "              precision    recall  f1-score   support\n",
      "\n",
      "           0       0.90      0.98      0.94       371\n",
      "           1       0.81      0.43      0.56        70\n",
      "\n",
      "    accuracy                           0.89       441\n",
      "   macro avg       0.86      0.70      0.75       441\n",
      "weighted avg       0.89      0.89      0.88       441\n",
      "\n",
      "0.8934240362811792\n"
     ]
    }
   ],
   "source": [
    "#Logistic REGRESSION PREDICT \n",
    "y_pred_LR = logreg.predict(X_test)\n",
    "\n",
    "confusion_matrix_LR = confusion_matrix(y_test,y_pred_LR)\n",
    "print(\"\\nConfusion Matrix\")\n",
    "print(confusion_matrix_LR)\n",
    "\n",
    "classify_LR= classification_report(y_test, y_pred_LR)\n",
    "print(\"\\nClassification Report\")\n",
    "print(classify_LR)\n",
    "LR_acc = accuracy_score(y_test, logreg.predict(X_test))\n",
    "print(LR_acc)"
   ]
  },
  {
   "cell_type": "code",
   "execution_count": 214,
   "metadata": {},
   "outputs": [
    {
     "name": "stdout",
     "output_type": "stream",
     "text": [
      "Time taken for naive bayes without pca :  0.005933046340942383\n"
     ]
    }
   ],
   "source": [
    "# Naive Bayes Train\n",
    "\n",
    "naive = GaussianNB()\n",
    "start=time.time()\n",
    "naive.fit(X_train, y_train)\n",
    "stop=time.time()\n",
    "naive_time  = stop - start \n",
    "print(\"Time taken for naive bayes without pca : \", naive_time)\n"
   ]
  },
  {
   "cell_type": "code",
   "execution_count": 215,
   "metadata": {},
   "outputs": [
    {
     "name": "stdout",
     "output_type": "stream",
     "text": [
      "\n",
      "Confusion Matrix\n",
      "[[225 146]\n",
      " [ 19  51]]\n",
      "\n",
      "Classification Report\n",
      "              precision    recall  f1-score   support\n",
      "\n",
      "           0       0.92      0.61      0.73       371\n",
      "           1       0.26      0.73      0.38        70\n",
      "\n",
      "    accuracy                           0.63       441\n",
      "   macro avg       0.59      0.67      0.56       441\n",
      "weighted avg       0.82      0.63      0.68       441\n",
      "\n",
      "0.6258503401360545\n"
     ]
    }
   ],
   "source": [
    "# Naive bayes Predict \n",
    "y_pred_NB = naive.predict(X_test)\n",
    "\n",
    "confusion_matrix_NB = confusion_matrix(y_test,y_pred_NB)\n",
    "print(\"\\nConfusion Matrix\")\n",
    "print(confusion_matrix_NB)\n",
    "\n",
    "classify_NB= classification_report(y_test, y_pred_NB)\n",
    "print(\"\\nClassification Report\")\n",
    "print(classify_NB)\n",
    "NB_acc = accuracy_score(y_test, naive.predict(X_test))\n",
    "print(NB_acc)"
   ]
  },
  {
   "cell_type": "markdown",
   "metadata": {},
   "source": [
    "## PCA"
   ]
  },
  {
   "cell_type": "code",
   "execution_count": 216,
   "metadata": {},
   "outputs": [
    {
     "name": "stdout",
     "output_type": "stream",
     "text": [
      "21\n"
     ]
    }
   ],
   "source": [
    "n=90\n",
    "pca=PCA(n/100)\n",
    "pca.fit(X_train)\n",
    "print(pca.n_components_)"
   ]
  },
  {
   "cell_type": "code",
   "execution_count": 217,
   "metadata": {},
   "outputs": [],
   "source": [
    "X_train_pca=pca.transform(X_train)\n",
    "X_test_pca=pca.transform(X_test)"
   ]
  },
  {
   "cell_type": "code",
   "execution_count": 218,
   "metadata": {},
   "outputs": [
    {
     "data": {
      "text/plain": [
       "array([[ 1.56332262, -0.34240799,  0.17636568, ...,  1.47666159,\n",
       "         0.78591969,  0.6261033 ],\n",
       "       [-1.26126231,  0.00466345,  2.10794834, ..., -0.97303861,\n",
       "        -0.51950207, -0.56955945],\n",
       "       [-0.93336987, -0.07708983, -0.00549073, ...,  1.23134549,\n",
       "         0.22889714,  1.13060028],\n",
       "       ...,\n",
       "       [ 0.17260197,  1.74560978,  0.71653441, ..., -1.08613941,\n",
       "         0.10094923,  0.55510726],\n",
       "       [ 1.49970972,  1.64989869,  1.05736982, ..., -0.36472256,\n",
       "         0.7092407 , -0.42228488],\n",
       "       [ 2.00221559, -0.83986114,  1.56394667, ..., -0.63252659,\n",
       "        -0.5259138 , -0.97327581]])"
      ]
     },
     "execution_count": 218,
     "metadata": {},
     "output_type": "execute_result"
    }
   ],
   "source": [
    "X_test_pca"
   ]
  },
  {
   "cell_type": "markdown",
   "metadata": {},
   "source": [
    "## SVM With PCA"
   ]
  },
  {
   "cell_type": "code",
   "execution_count": 219,
   "metadata": {},
   "outputs": [
    {
     "name": "stderr",
     "output_type": "stream",
     "text": [
      "/Users/maddisiddart/opt/anaconda3/lib/python3.7/site-packages/sklearn/svm/base.py:193: FutureWarning: The default value of gamma will change from 'auto' to 'scale' in version 0.22 to account better for unscaled features. Set gamma explicitly to 'auto' or 'scale' to avoid this warning.\n",
      "  \"avoid this warning.\", FutureWarning)\n"
     ]
    },
    {
     "name": "stdout",
     "output_type": "stream",
     "text": [
      "Train Time (seconds) of SVM with PCA: 0.3818318843841553\n"
     ]
    }
   ],
   "source": [
    "start = time.time()\n",
    "\n",
    "svc_pca = SVC(kernel = 'rbf', probability = True)\n",
    "svc_pca.fit(X_train_pca, y_train)\n",
    "\n",
    "end = time.time()\n",
    "svm_time_pca = end-start\n",
    "print('Train Time (seconds) of SVM with PCA:',svm_time_pca)"
   ]
  },
  {
   "cell_type": "code",
   "execution_count": 220,
   "metadata": {},
   "outputs": [
    {
     "data": {
      "image/png": "[encoded data removed]",
      "text/plain": [
       "<Figure size 432x288 with 1 Axes>"
      ]
     },
     "metadata": {
      "needs_background": "light"
     },
     "output_type": "display_data"
    },
    {
     "name": "stdout",
     "output_type": "stream",
     "text": [
      "\n",
      "Confusion Matrix\n",
      "[[369   2]\n",
      " [ 61   9]]\n",
      "\n",
      "Classification Report\n",
      "              precision    recall  f1-score   support\n",
      "\n",
      "           0       0.86      0.99      0.92       371\n",
      "           1       0.82      0.13      0.22        70\n",
      "\n",
      "    accuracy                           0.86       441\n",
      "   macro avg       0.84      0.56      0.57       441\n",
      "weighted avg       0.85      0.86      0.81       441\n",
      "\n",
      "0.8571428571428571\n"
     ]
    }
   ],
   "source": [
    "y_pred_svc_pca = svc_pca.predict(X_test_pca)\n",
    "\n",
    "svc_roc_auc_pca = roc_auc_score(y_test,y_pred_svc_pca)\n",
    "fpr, tpr, thresholds = roc_curve(y_test,svc_pca.predict_proba(X_test_pca)[:,1])\n",
    "plt.figure()\n",
    "plt.plot(fpr, tpr, label='SVM (Area = %0.2f)' % svc_roc_auc_pca)\n",
    "plt.plot([0,1],[0,1],'r--')\n",
    "plt.xlim([0.0,1.0])\n",
    "plt.ylim([0.0,1.05])\n",
    "plt.xlabel('Fasle Positive Rate')\n",
    "plt.ylabel('True Positive Rate')\n",
    "plt.title('Receiver Operating Characteristics')\n",
    "plt.legend(loc=\"lower right\")\n",
    "plt.show()\n",
    "\n",
    "confusion_matrix_svc_pca = confusion_matrix(y_test,y_pred_svc_pca)\n",
    "print(\"\\nConfusion Matrix\")\n",
    "print(confusion_matrix_svc_pca)\n",
    "\n",
    "classify_svc_pca = classification_report(y_test, y_pred_svc_pca)\n",
    "print(\"\\nClassification Report\")\n",
    "print(classify_svc_pca)\n",
    "svm_pca_acc = accuracy_score(y_test, svc_pca.predict(X_test_pca))\n",
    "print(svm_pca_acc)"
   ]
  },
  {
   "cell_type": "markdown",
   "metadata": {},
   "source": [
    "## Random Forest Classifier"
   ]
  },
  {
   "cell_type": "code",
   "execution_count": 221,
   "metadata": {},
   "outputs": [
    {
     "name": "stdout",
     "output_type": "stream",
     "text": [
      "Train Time (seconds) of Random Forest with PCA: 0.13080716133117676\n",
      "\n",
      "Confusion Matrix\n",
      "[[367   4]\n",
      " [ 62   8]]\n",
      "\n",
      "Classification Report\n",
      "              precision    recall  f1-score   support\n",
      "\n",
      "           0       0.86      0.99      0.92       371\n",
      "           1       0.67      0.11      0.20        70\n",
      "\n",
      "    accuracy                           0.85       441\n",
      "   macro avg       0.76      0.55      0.56       441\n",
      "weighted avg       0.83      0.85      0.80       441\n",
      "\n",
      "0.8503401360544217\n"
     ]
    }
   ],
   "source": [
    "rf_pca=RandomForestClassifier(n_estimators=10,criterion='entropy')\n",
    "start = time.time()\n",
    "rf_pca.fit(X_train_pca, y_train)\n",
    "end = time.time()\n",
    "rf_pca_time = end - start\n",
    "print('Train Time (seconds) of Random Forest with PCA:',rf_pca_time)\n",
    "\n",
    "y_pred_rf_pca = rf_pca.predict(X_test_pca)\n",
    "confusion_matrix_rf_pca = confusion_matrix(y_test,y_pred_rf_pca)\n",
    "print(\"\\nConfusion Matrix\")\n",
    "print(confusion_matrix_rf_pca)\n",
    "\n",
    "classify_rf_pca = classification_report(y_test, y_pred_rf_pca)\n",
    "print(\"\\nClassification Report\")\n",
    "print(classify_rf_pca)\n",
    "\n",
    "rf_pca_acc = accuracy_score(y_test, rf_pca.predict(X_test_pca))\n",
    "print(rf_pca_acc)"
   ]
  },
  {
   "cell_type": "markdown",
   "metadata": {},
   "source": [
    "## Logistic Regression with PCA"
   ]
  },
  {
   "cell_type": "code",
   "execution_count": 222,
   "metadata": {},
   "outputs": [
    {
     "name": "stdout",
     "output_type": "stream",
     "text": [
      "Train Time (seconds) of logistic regression with PCA: 0.011168956756591797\n",
      "              precision    recall  f1-score   support\n",
      "\n",
      "           0       0.87      0.98      0.92       371\n",
      "           1       0.70      0.20      0.31        70\n",
      "\n",
      "    accuracy                           0.86       441\n",
      "   macro avg       0.78      0.59      0.62       441\n",
      "weighted avg       0.84      0.86      0.82       441\n",
      "\n",
      "0.8594104308390023\n"
     ]
    },
    {
     "name": "stderr",
     "output_type": "stream",
     "text": [
      "/Users/maddisiddart/opt/anaconda3/lib/python3.7/site-packages/sklearn/linear_model/logistic.py:432: FutureWarning: Default solver will be changed to 'lbfgs' in 0.22. Specify a solver to silence this warning.\n",
      "  FutureWarning)\n"
     ]
    }
   ],
   "source": [
    "logreg = LogisticRegression()\n",
    "start = time.time()\n",
    "logreg.fit(X_train_pca, y_train)\n",
    "end = time.time()\n",
    "lr_pca_time = end- start\n",
    "print('Train Time (seconds) of logistic regression with PCA:',lr_pca_time)\n",
    "\n",
    "print(classification_report(y_test, logreg.predict(X_test_pca)))\n",
    "\n",
    "LR_pca_acc = accuracy_score(y_test, logreg.predict(X_test_pca))\n",
    "print(LR_pca_acc)"
   ]
  },
  {
   "cell_type": "markdown",
   "metadata": {},
   "source": [
    "## Naive Bayes with PCA"
   ]
  },
  {
   "cell_type": "code",
   "execution_count": 223,
   "metadata": {},
   "outputs": [
    {
     "name": "stdout",
     "output_type": "stream",
     "text": [
      "Time taken for naive bayes :  0.012485265731811523\n",
      "              precision    recall  f1-score   support\n",
      "\n",
      "           0       0.87      0.98      0.92       371\n",
      "           1       0.70      0.20      0.31        70\n",
      "\n",
      "    accuracy                           0.86       441\n",
      "   macro avg       0.78      0.59      0.62       441\n",
      "weighted avg       0.84      0.86      0.82       441\n",
      "\n",
      "0.8707482993197279\n"
     ]
    }
   ],
   "source": [
    "naive = GaussianNB()\n",
    "start=time.time()\n",
    "naive.fit(X_train_pca, y_train)\n",
    "stop=time.time()\n",
    "NB_pca_time = stop - start\n",
    "print(\"Time taken for naive bayes : \", NB_pca_time)\n",
    "\n",
    "train_Pred = naive.predict(X_train_pca)\n",
    "print(classification_report(y_test, logreg.predict(X_test_pca)))\n",
    "\n",
    "NB_pca_acc = accuracy_score(y_test, naive.predict(X_test_pca))\n",
    "print(NB_pca_acc)"
   ]
  },
  {
   "cell_type": "markdown",
   "metadata": {},
   "source": [
    "## GRAPHS FOR COMPARISION"
   ]
  },
  {
   "cell_type": "code",
   "execution_count": 224,
   "metadata": {},
   "outputs": [],
   "source": [
    "time = {'Model': ['SVM','Random Forest','Logistic Regression','Naive Bayes'],\n",
    "                  'Train Time - no PCA (s) ': [svm_time,random_forest_time, logistic_time,naive_time],\n",
    "                  'Train Time - PCA (s) ': [svm_time_pca,rf_pca_time, lr_pca_time, NB_pca_time]\n",
    "               }\n",
    "tm = pd.DataFrame(data=time)"
   ]
  },
  {
   "cell_type": "code",
   "execution_count": 225,
   "metadata": {},
   "outputs": [
    {
     "data": {
      "text/html": [
       "<div>\n",
       "<style scoped>\n",
       "    .dataframe tbody tr th:only-of-type {\n",
       "        vertical-align: middle;\n",
       "    }\n",
       "\n",
       "    .dataframe tbody tr th {\n",
       "        vertical-align: top;\n",
       "    }\n",
       "\n",
       "    .dataframe thead th {\n",
       "        text-align: right;\n",
       "    }\n",
       "</style>\n",
       "<table border=\"1\" class=\"dataframe\">\n",
       "  <thead>\n",
       "    <tr style=\"text-align: right;\">\n",
       "      <th></th>\n",
       "      <th>Model</th>\n",
       "      <th>Train Time - no PCA (s)</th>\n",
       "      <th>Train Time - PCA (s)</th>\n",
       "    </tr>\n",
       "  </thead>\n",
       "  <tbody>\n",
       "    <tr>\n",
       "      <td>0</td>\n",
       "      <td>SVM</td>\n",
       "      <td>0.338029</td>\n",
       "      <td>0.381832</td>\n",
       "    </tr>\n",
       "    <tr>\n",
       "      <td>1</td>\n",
       "      <td>Random Forest</td>\n",
       "      <td>0.125269</td>\n",
       "      <td>0.130807</td>\n",
       "    </tr>\n",
       "    <tr>\n",
       "      <td>2</td>\n",
       "      <td>Logistic Regression</td>\n",
       "      <td>0.056157</td>\n",
       "      <td>0.011169</td>\n",
       "    </tr>\n",
       "    <tr>\n",
       "      <td>3</td>\n",
       "      <td>Naive Bayes</td>\n",
       "      <td>0.005933</td>\n",
       "      <td>0.012485</td>\n",
       "    </tr>\n",
       "  </tbody>\n",
       "</table>\n",
       "</div>"
      ],
      "text/plain": [
       "                 Model  Train Time - no PCA (s)   Train Time - PCA (s) \n",
       "0                  SVM                  0.338029               0.381832\n",
       "1        Random Forest                  0.125269               0.130807\n",
       "2  Logistic Regression                  0.056157               0.011169\n",
       "3          Naive Bayes                  0.005933               0.012485"
      ]
     },
     "execution_count": 225,
     "metadata": {},
     "output_type": "execute_result"
    }
   ],
   "source": [
    "tm"
   ]
  },
  {
   "cell_type": "code",
   "execution_count": 226,
   "metadata": {},
   "outputs": [
    {
     "data": {
      "image/png": "[encoded data removed]",
      "text/plain": [
       "<Figure size 1440x576 with 1 Axes>"
      ]
     },
     "metadata": {},
     "output_type": "display_data"
    }
   ],
   "source": [
    "tm = tm.set_index('Model')\n",
    "sns.set_style(style='white')\n",
    "\n",
    "ax = tm.plot(kind='bar', figsize=(20,8), width=0.5, color=['#E56868', '#75C3D2'], fontsize=10)\n",
    "\n",
    "ax.legend(loc='best')\n",
    "plt.xticks(rotation=0, ha=\"center\")\n",
    "\n",
    "ax.spines['top'].set_visible(False)\n",
    "ax.spines['right'].set_visible(False)\n",
    "ax.spines['bottom'].set_linewidth(False)\n",
    "ax.spines['left'].set_linewidth(False)\n",
    "ax.yaxis.grid()\n",
    "ax.get_yaxis().set_visible(False)\n",
    "plt.title('Impact of PCA on Train Time (Seconds)', fontsize=10)\n",
    "\n",
    "\n",
    "for n in range(2):\n",
    "    for index, val in enumerate(tm.iloc[:,n].transpose()): \n",
    "        label=str(round(val,4))\n",
    "        \n",
    "        if n==0:\n",
    "            ax.annotate(label, xy=(index-0.25, val+0.007), color='#E56868', fontsize=10, fontweight='bold')\n",
    "        elif n==1:\n",
    "            ax.annotate(label, xy=(index+0.05, val+0.007), color='#75C3D2', fontsize=10, fontweight='bold')"
   ]
  },
  {
   "cell_type": "code",
   "execution_count": 227,
   "metadata": {},
   "outputs": [
    {
     "data": {
      "text/html": [
       "<div>\n",
       "<style scoped>\n",
       "    .dataframe tbody tr th:only-of-type {\n",
       "        vertical-align: middle;\n",
       "    }\n",
       "\n",
       "    .dataframe tbody tr th {\n",
       "        vertical-align: top;\n",
       "    }\n",
       "\n",
       "    .dataframe thead th {\n",
       "        text-align: right;\n",
       "    }\n",
       "</style>\n",
       "<table border=\"1\" class=\"dataframe\">\n",
       "  <thead>\n",
       "    <tr style=\"text-align: right;\">\n",
       "      <th></th>\n",
       "      <th>Models</th>\n",
       "      <th>Accuracy - no PCA (%)</th>\n",
       "      <th>Accuracy - PCA (%)</th>\n",
       "    </tr>\n",
       "  </thead>\n",
       "  <tbody>\n",
       "    <tr>\n",
       "      <td>0</td>\n",
       "      <td>SVM</td>\n",
       "      <td>0.861678</td>\n",
       "      <td>0.857143</td>\n",
       "    </tr>\n",
       "    <tr>\n",
       "      <td>1</td>\n",
       "      <td>Random Forest</td>\n",
       "      <td>0.861678</td>\n",
       "      <td>0.850340</td>\n",
       "    </tr>\n",
       "    <tr>\n",
       "      <td>2</td>\n",
       "      <td>Logistic Regression</td>\n",
       "      <td>0.893424</td>\n",
       "      <td>0.859410</td>\n",
       "    </tr>\n",
       "    <tr>\n",
       "      <td>3</td>\n",
       "      <td>Naive Bayes</td>\n",
       "      <td>0.625850</td>\n",
       "      <td>0.870748</td>\n",
       "    </tr>\n",
       "  </tbody>\n",
       "</table>\n",
       "</div>"
      ],
      "text/plain": [
       "                Models  Accuracy - no PCA (%)  Accuracy - PCA (%)\n",
       "0                  SVM               0.861678            0.857143\n",
       "1        Random Forest               0.861678            0.850340\n",
       "2  Logistic Regression               0.893424            0.859410\n",
       "3          Naive Bayes               0.625850            0.870748"
      ]
     },
     "execution_count": 227,
     "metadata": {},
     "output_type": "execute_result"
    }
   ],
   "source": [
    "accuracy = {'Models': ['SVM','Random Forest','Logistic Regression','Naive Bayes'], \n",
    "               'Accuracy - no PCA (%)': [svm_acc,rf_acc,LR_acc,NB_acc], \n",
    "               'Accuracy - PCA (%)': [svm_pca_acc,rf_pca_acc,LR_pca_acc,NB_pca_acc]\n",
    "              }\n",
    "\n",
    "\n",
    "acc = pd.DataFrame(data=accuracy)\n",
    "\n",
    "acc"
   ]
  },
  {
   "cell_type": "code",
   "execution_count": 228,
   "metadata": {},
   "outputs": [
    {
     "data": {
      "image/png": "[encoded data removed]",
      "text/plain": [
       "<Figure size 1440x576 with 1 Axes>"
      ]
     },
     "metadata": {},
     "output_type": "display_data"
    }
   ],
   "source": [
    "acc = acc.set_index('Models')\n",
    "sns.set_style(style='white')\n",
    "\n",
    "ax = acc.plot(kind='bar', figsize=(20,8), width=0.5, color=['#E56868', '#75C3D2'], fontsize=10)\n",
    "\n",
    "#ax.legend(loc='best')\n",
    "plt.xticks(rotation=0, ha=\"center\")\n",
    "\n",
    "ax.spines['top'].set_visible(False)\n",
    "ax.spines['right'].set_visible(False)\n",
    "ax.spines['bottom'].set_linewidth(False)\n",
    "ax.spines['left'].set_linewidth(False)\n",
    "ax.yaxis.grid()\n",
    "ax.get_yaxis().set_visible(False)\n",
    "plt.title('Impact of PCA on ACCURACY', fontsize=10)\n",
    "\n",
    "\n",
    "for n in range(2):\n",
    "    for index, val in enumerate(acc.iloc[:,n].transpose()): \n",
    "        label=str(round(val,4))\n",
    "        \n",
    "        if n==0:\n",
    "            ax.annotate(label, xy=(index-0.25, val+0.007), color='#E56868', fontsize=10, fontweight='bold')\n",
    "        elif n==1:\n",
    "            ax.annotate(label, xy=(index+0.05, val+0.007), color='#75C3D2', fontsize=10, fontweight='bold')"
   ]
  },
  {
   "cell_type": "markdown",
   "metadata": {},
   "source": [
    "### REASON FOR ATTRITION "
   ]
  },
  {
   "cell_type": "code",
   "execution_count": 229,
   "metadata": {},
   "outputs": [],
   "source": [
    "y_pred=rf.predict(X_test)\n",
    "probability=rf.predict_proba(X_test)"
   ]
  },
  {
   "cell_type": "code",
   "execution_count": 230,
   "metadata": {},
   "outputs": [],
   "source": [
    "X_test_df=pd.DataFrame(test[:,0],columns=[\"EmployeeNumber\"])\n",
    "y_pred_df=pd.DataFrame(y_pred,columns=[\"prediction\"])\n",
    "probability_df=pd.DataFrame(probability,columns =[\"Not leaving\",\"leaving\"])\n",
    "final_1=X_test_df.join(y_pred_df)\n",
    "final=final_1.join(probability_df)\n"
   ]
  },
  {
   "cell_type": "markdown",
   "metadata": {},
   "source": [
    "## Treeinterpreter"
   ]
  },
  {
   "cell_type": "code",
   "execution_count": 231,
   "metadata": {},
   "outputs": [],
   "source": [
    "from treeinterpreter import treeinterpreter as ti \n",
    "predicted,bias,contributions = ti.predict(rf,X_test)       \n",
    "max_contribution=[]       \n",
    "for i in range(len(X_test_df['EmployeeNumber'])):\n",
    "    lis=[]\n",
    "    feature=[]\n",
    "    new=[]\n",
    "    for j,k in zip(contributions[i], df_copy.columns[1:]):\n",
    "        lis.append(abs(j[1])*100)\n",
    "        feature.append(k)\n",
    "    for m in range(len(contributions[i])):    \n",
    "        if lis[m]== max(lis):\n",
    "                \n",
    "            max_contribution.append(feature[m])\n",
    "        else:\n",
    "            pass\n",
    "parameters=pd.DataFrame(max_contribution,columns=[\"max_weightage\"])\n",
    "final=final.join(parameters)   "
   ]
  },
  {
   "cell_type": "code",
   "execution_count": 232,
   "metadata": {},
   "outputs": [
    {
     "data": {
      "text/html": [
       "<div>\n",
       "<style scoped>\n",
       "    .dataframe tbody tr th:only-of-type {\n",
       "        vertical-align: middle;\n",
       "    }\n",
       "\n",
       "    .dataframe tbody tr th {\n",
       "        vertical-align: top;\n",
       "    }\n",
       "\n",
       "    .dataframe thead th {\n",
       "        text-align: right;\n",
       "    }\n",
       "</style>\n",
       "<table border=\"1\" class=\"dataframe\">\n",
       "  <thead>\n",
       "    <tr style=\"text-align: right;\">\n",
       "      <th></th>\n",
       "      <th>EmployeeNumber</th>\n",
       "      <th>prediction</th>\n",
       "      <th>Not leaving</th>\n",
       "      <th>leaving</th>\n",
       "      <th>max_weightage</th>\n",
       "    </tr>\n",
       "  </thead>\n",
       "  <tbody>\n",
       "    <tr>\n",
       "      <td>0</td>\n",
       "      <td>592.0</td>\n",
       "      <td>0</td>\n",
       "      <td>0.9</td>\n",
       "      <td>0.1</td>\n",
       "      <td>MonthlyRate</td>\n",
       "    </tr>\n",
       "    <tr>\n",
       "      <td>1</td>\n",
       "      <td>1545.0</td>\n",
       "      <td>0</td>\n",
       "      <td>0.9</td>\n",
       "      <td>0.1</td>\n",
       "      <td>YearsInCurrentRole</td>\n",
       "    </tr>\n",
       "    <tr>\n",
       "      <td>2</td>\n",
       "      <td>1380.0</td>\n",
       "      <td>0</td>\n",
       "      <td>0.9</td>\n",
       "      <td>0.1</td>\n",
       "      <td>JobLevel</td>\n",
       "    </tr>\n",
       "    <tr>\n",
       "      <td>3</td>\n",
       "      <td>1092.0</td>\n",
       "      <td>0</td>\n",
       "      <td>0.9</td>\n",
       "      <td>0.1</td>\n",
       "      <td>YearsAtCompany</td>\n",
       "    </tr>\n",
       "    <tr>\n",
       "      <td>4</td>\n",
       "      <td>1868.0</td>\n",
       "      <td>1</td>\n",
       "      <td>0.1</td>\n",
       "      <td>0.9</td>\n",
       "      <td>TotalWorkingYears</td>\n",
       "    </tr>\n",
       "    <tr>\n",
       "      <td>...</td>\n",
       "      <td>...</td>\n",
       "      <td>...</td>\n",
       "      <td>...</td>\n",
       "      <td>...</td>\n",
       "      <td>...</td>\n",
       "    </tr>\n",
       "    <tr>\n",
       "      <td>436</td>\n",
       "      <td>1133.0</td>\n",
       "      <td>0</td>\n",
       "      <td>0.7</td>\n",
       "      <td>0.3</td>\n",
       "      <td>HourlyRate</td>\n",
       "    </tr>\n",
       "    <tr>\n",
       "      <td>437</td>\n",
       "      <td>530.0</td>\n",
       "      <td>0</td>\n",
       "      <td>0.9</td>\n",
       "      <td>0.1</td>\n",
       "      <td>YearsSinceLastPromotion</td>\n",
       "    </tr>\n",
       "    <tr>\n",
       "      <td>438</td>\n",
       "      <td>615.0</td>\n",
       "      <td>0</td>\n",
       "      <td>1.0</td>\n",
       "      <td>0.0</td>\n",
       "      <td>DistanceFromHome</td>\n",
       "    </tr>\n",
       "    <tr>\n",
       "      <td>439</td>\n",
       "      <td>543.0</td>\n",
       "      <td>0</td>\n",
       "      <td>1.0</td>\n",
       "      <td>0.0</td>\n",
       "      <td>MonthlyIncome</td>\n",
       "    </tr>\n",
       "    <tr>\n",
       "      <td>440</td>\n",
       "      <td>817.0</td>\n",
       "      <td>0</td>\n",
       "      <td>0.8</td>\n",
       "      <td>0.2</td>\n",
       "      <td>MonthlyRate</td>\n",
       "    </tr>\n",
       "  </tbody>\n",
       "</table>\n",
       "<p>441 rows × 5 columns</p>\n",
       "</div>"
      ],
      "text/plain": [
       "     EmployeeNumber  prediction  Not leaving  leaving            max_weightage\n",
       "0             592.0           0          0.9      0.1              MonthlyRate\n",
       "1            1545.0           0          0.9      0.1       YearsInCurrentRole\n",
       "2            1380.0           0          0.9      0.1                 JobLevel\n",
       "3            1092.0           0          0.9      0.1           YearsAtCompany\n",
       "4            1868.0           1          0.1      0.9        TotalWorkingYears\n",
       "..              ...         ...          ...      ...                      ...\n",
       "436          1133.0           0          0.7      0.3               HourlyRate\n",
       "437           530.0           0          0.9      0.1  YearsSinceLastPromotion\n",
       "438           615.0           0          1.0      0.0         DistanceFromHome\n",
       "439           543.0           0          1.0      0.0            MonthlyIncome\n",
       "440           817.0           0          0.8      0.2              MonthlyRate\n",
       "\n",
       "[441 rows x 5 columns]"
      ]
     },
     "execution_count": 232,
     "metadata": {},
     "output_type": "execute_result"
    }
   ],
   "source": [
    "final"
   ]
  },
  {
   "cell_type": "code",
   "execution_count": 233,
   "metadata": {},
   "outputs": [],
   "source": [
    "final_left = final[final['prediction']==1]\n",
    "       "
   ]
  },
  {
   "cell_type": "code",
   "execution_count": 234,
   "metadata": {},
   "outputs": [
    {
     "data": {
      "text/html": [
       "<div>\n",
       "<style scoped>\n",
       "    .dataframe tbody tr th:only-of-type {\n",
       "        vertical-align: middle;\n",
       "    }\n",
       "\n",
       "    .dataframe tbody tr th {\n",
       "        vertical-align: top;\n",
       "    }\n",
       "\n",
       "    .dataframe thead th {\n",
       "        text-align: right;\n",
       "    }\n",
       "</style>\n",
       "<table border=\"1\" class=\"dataframe\">\n",
       "  <thead>\n",
       "    <tr style=\"text-align: right;\">\n",
       "      <th></th>\n",
       "      <th>EmployeeNumber</th>\n",
       "      <th>prediction</th>\n",
       "      <th>Not leaving</th>\n",
       "      <th>leaving</th>\n",
       "      <th>max_weightage</th>\n",
       "    </tr>\n",
       "  </thead>\n",
       "  <tbody>\n",
       "    <tr>\n",
       "      <td>4</td>\n",
       "      <td>1868.0</td>\n",
       "      <td>1</td>\n",
       "      <td>0.1</td>\n",
       "      <td>0.9</td>\n",
       "      <td>TotalWorkingYears</td>\n",
       "    </tr>\n",
       "    <tr>\n",
       "      <td>13</td>\n",
       "      <td>741.0</td>\n",
       "      <td>1</td>\n",
       "      <td>0.3</td>\n",
       "      <td>0.7</td>\n",
       "      <td>OverTime_Yes</td>\n",
       "    </tr>\n",
       "    <tr>\n",
       "      <td>28</td>\n",
       "      <td>2021.0</td>\n",
       "      <td>1</td>\n",
       "      <td>0.0</td>\n",
       "      <td>1.0</td>\n",
       "      <td>OverTime_Yes</td>\n",
       "    </tr>\n",
       "    <tr>\n",
       "      <td>45</td>\n",
       "      <td>1939.0</td>\n",
       "      <td>1</td>\n",
       "      <td>0.4</td>\n",
       "      <td>0.6</td>\n",
       "      <td>OverTime_Yes</td>\n",
       "    </tr>\n",
       "    <tr>\n",
       "      <td>48</td>\n",
       "      <td>1248.0</td>\n",
       "      <td>1</td>\n",
       "      <td>0.1</td>\n",
       "      <td>0.9</td>\n",
       "      <td>OverTime_Yes</td>\n",
       "    </tr>\n",
       "    <tr>\n",
       "      <td>49</td>\n",
       "      <td>45.0</td>\n",
       "      <td>1</td>\n",
       "      <td>0.3</td>\n",
       "      <td>0.7</td>\n",
       "      <td>OverTime_Yes</td>\n",
       "    </tr>\n",
       "    <tr>\n",
       "      <td>123</td>\n",
       "      <td>19.0</td>\n",
       "      <td>1</td>\n",
       "      <td>0.3</td>\n",
       "      <td>0.7</td>\n",
       "      <td>OverTime_Yes</td>\n",
       "    </tr>\n",
       "    <tr>\n",
       "      <td>190</td>\n",
       "      <td>2054.0</td>\n",
       "      <td>1</td>\n",
       "      <td>0.4</td>\n",
       "      <td>0.6</td>\n",
       "      <td>Education</td>\n",
       "    </tr>\n",
       "    <tr>\n",
       "      <td>191</td>\n",
       "      <td>1783.0</td>\n",
       "      <td>1</td>\n",
       "      <td>0.3</td>\n",
       "      <td>0.7</td>\n",
       "      <td>OverTime_Yes</td>\n",
       "    </tr>\n",
       "    <tr>\n",
       "      <td>257</td>\n",
       "      <td>994.0</td>\n",
       "      <td>1</td>\n",
       "      <td>0.4</td>\n",
       "      <td>0.6</td>\n",
       "      <td>OverTime_Yes</td>\n",
       "    </tr>\n",
       "    <tr>\n",
       "      <td>298</td>\n",
       "      <td>1273.0</td>\n",
       "      <td>1</td>\n",
       "      <td>0.0</td>\n",
       "      <td>1.0</td>\n",
       "      <td>MonthlyIncome</td>\n",
       "    </tr>\n",
       "    <tr>\n",
       "      <td>320</td>\n",
       "      <td>566.0</td>\n",
       "      <td>1</td>\n",
       "      <td>0.4</td>\n",
       "      <td>0.6</td>\n",
       "      <td>EducationField_Technical Degree</td>\n",
       "    </tr>\n",
       "    <tr>\n",
       "      <td>369</td>\n",
       "      <td>1974.0</td>\n",
       "      <td>1</td>\n",
       "      <td>0.4</td>\n",
       "      <td>0.6</td>\n",
       "      <td>OverTime_Yes</td>\n",
       "    </tr>\n",
       "    <tr>\n",
       "      <td>385</td>\n",
       "      <td>1928.0</td>\n",
       "      <td>1</td>\n",
       "      <td>0.2</td>\n",
       "      <td>0.8</td>\n",
       "      <td>YearsWithCurrManager</td>\n",
       "    </tr>\n",
       "    <tr>\n",
       "      <td>394</td>\n",
       "      <td>960.0</td>\n",
       "      <td>1</td>\n",
       "      <td>0.4</td>\n",
       "      <td>0.6</td>\n",
       "      <td>EnvironmentSatisfaction</td>\n",
       "    </tr>\n",
       "  </tbody>\n",
       "</table>\n",
       "</div>"
      ],
      "text/plain": [
       "     EmployeeNumber  prediction  Not leaving  leaving  \\\n",
       "4            1868.0           1          0.1      0.9   \n",
       "13            741.0           1          0.3      0.7   \n",
       "28           2021.0           1          0.0      1.0   \n",
       "45           1939.0           1          0.4      0.6   \n",
       "48           1248.0           1          0.1      0.9   \n",
       "49             45.0           1          0.3      0.7   \n",
       "123            19.0           1          0.3      0.7   \n",
       "190          2054.0           1          0.4      0.6   \n",
       "191          1783.0           1          0.3      0.7   \n",
       "257           994.0           1          0.4      0.6   \n",
       "298          1273.0           1          0.0      1.0   \n",
       "320           566.0           1          0.4      0.6   \n",
       "369          1974.0           1          0.4      0.6   \n",
       "385          1928.0           1          0.2      0.8   \n",
       "394           960.0           1          0.4      0.6   \n",
       "\n",
       "                       max_weightage  \n",
       "4                  TotalWorkingYears  \n",
       "13                      OverTime_Yes  \n",
       "28                      OverTime_Yes  \n",
       "45                      OverTime_Yes  \n",
       "48                      OverTime_Yes  \n",
       "49                      OverTime_Yes  \n",
       "123                     OverTime_Yes  \n",
       "190                        Education  \n",
       "191                     OverTime_Yes  \n",
       "257                     OverTime_Yes  \n",
       "298                    MonthlyIncome  \n",
       "320  EducationField_Technical Degree  \n",
       "369                     OverTime_Yes  \n",
       "385             YearsWithCurrManager  \n",
       "394          EnvironmentSatisfaction  "
      ]
     },
     "execution_count": 234,
     "metadata": {},
     "output_type": "execute_result"
    }
   ],
   "source": [
    "final_left"
   ]
  },
  {
   "cell_type": "markdown",
   "metadata": {},
   "source": [
    "## Quality of Attrition"
   ]
  },
  {
   "cell_type": "code",
   "execution_count": 235,
   "metadata": {},
   "outputs": [],
   "source": [
    "perf=df[[\"Education\",\"JobInvolvement\", \"JobSatisfaction\", \"PerformanceRating\", \"WorkLifeBalance\"]].copy()\n"
   ]
  },
  {
   "cell_type": "code",
   "execution_count": 236,
   "metadata": {},
   "outputs": [],
   "source": [
    "from sklearn.cluster import KMeans\n",
    "kmeans = KMeans(n_clusters=3)\n",
    "kmeans.fit(perf)\n",
    "y_kmeans = kmeans.predict(perf)"
   ]
  },
  {
   "cell_type": "code",
   "execution_count": 237,
   "metadata": {},
   "outputs": [
    {
     "name": "stdout",
     "output_type": "stream",
     "text": [
      "KMeans(algorithm='auto', copy_x=True, init='k-means++', max_iter=300,\n",
      "       n_clusters=3, n_init=10, n_jobs=None, precompute_distances='auto',\n",
      "       random_state=None, tol=0.0001, verbose=0)\n",
      "[2 2 2 ... 1 1 0]\n",
      "[[3.5136876  2.7310789  3.48493278 3.14009662 2.76811594]\n",
      " [3.01691729 2.7518797  1.47180451 3.15818264 2.77255639]\n",
      " [1.5615142  2.69085174 3.36347802 3.170347   2.72870662]]\n"
     ]
    }
   ],
   "source": [
    "print(kmeans)\n",
    "print(y_kmeans)\n",
    "print(kmeans.cluster_centers_)\n"
   ]
  },
  {
   "cell_type": "code",
   "execution_count": 238,
   "metadata": {},
   "outputs": [],
   "source": [
    "jobperf_df=df.copy()\n",
    "jobperf_df[\"Quality\"]=y_kmeans"
   ]
  },
  {
   "cell_type": "code",
   "execution_count": 239,
   "metadata": {},
   "outputs": [
    {
     "data": {
      "text/html": [
       "<div>\n",
       "<style scoped>\n",
       "    .dataframe tbody tr th:only-of-type {\n",
       "        vertical-align: middle;\n",
       "    }\n",
       "\n",
       "    .dataframe tbody tr th {\n",
       "        vertical-align: top;\n",
       "    }\n",
       "\n",
       "    .dataframe thead th {\n",
       "        text-align: right;\n",
       "    }\n",
       "</style>\n",
       "<table border=\"1\" class=\"dataframe\">\n",
       "  <thead>\n",
       "    <tr style=\"text-align: right;\">\n",
       "      <th></th>\n",
       "      <th>Age</th>\n",
       "      <th>Attrition</th>\n",
       "      <th>BusinessTravel</th>\n",
       "      <th>DailyRate</th>\n",
       "      <th>Department</th>\n",
       "      <th>DistanceFromHome</th>\n",
       "      <th>Education</th>\n",
       "      <th>EducationField</th>\n",
       "      <th>EmployeeCount</th>\n",
       "      <th>EmployeeNumber</th>\n",
       "      <th>...</th>\n",
       "      <th>StandardHours</th>\n",
       "      <th>StockOptionLevel</th>\n",
       "      <th>TotalWorkingYears</th>\n",
       "      <th>TrainingTimesLastYear</th>\n",
       "      <th>WorkLifeBalance</th>\n",
       "      <th>YearsAtCompany</th>\n",
       "      <th>YearsInCurrentRole</th>\n",
       "      <th>YearsSinceLastPromotion</th>\n",
       "      <th>YearsWithCurrManager</th>\n",
       "      <th>Quality</th>\n",
       "    </tr>\n",
       "  </thead>\n",
       "  <tbody>\n",
       "    <tr>\n",
       "      <td>0</td>\n",
       "      <td>41.0</td>\n",
       "      <td>Yes</td>\n",
       "      <td>Travel_Rarely</td>\n",
       "      <td>1102</td>\n",
       "      <td>Sales</td>\n",
       "      <td>1</td>\n",
       "      <td>2</td>\n",
       "      <td>Life Sciences</td>\n",
       "      <td>1</td>\n",
       "      <td>1</td>\n",
       "      <td>...</td>\n",
       "      <td>80.0</td>\n",
       "      <td>0.0</td>\n",
       "      <td>8.0</td>\n",
       "      <td>0.0</td>\n",
       "      <td>1</td>\n",
       "      <td>6.0</td>\n",
       "      <td>4.000000</td>\n",
       "      <td>0</td>\n",
       "      <td>5.0</td>\n",
       "      <td>2</td>\n",
       "    </tr>\n",
       "    <tr>\n",
       "      <td>1</td>\n",
       "      <td>49.0</td>\n",
       "      <td>No</td>\n",
       "      <td>Travel_Frequently</td>\n",
       "      <td>279</td>\n",
       "      <td>Research &amp; Development</td>\n",
       "      <td>8</td>\n",
       "      <td>1</td>\n",
       "      <td>Life Sciences</td>\n",
       "      <td>1</td>\n",
       "      <td>2</td>\n",
       "      <td>...</td>\n",
       "      <td>80.0</td>\n",
       "      <td>1.0</td>\n",
       "      <td>10.0</td>\n",
       "      <td>3.0</td>\n",
       "      <td>3</td>\n",
       "      <td>10.0</td>\n",
       "      <td>7.000000</td>\n",
       "      <td>1</td>\n",
       "      <td>7.0</td>\n",
       "      <td>2</td>\n",
       "    </tr>\n",
       "    <tr>\n",
       "      <td>2</td>\n",
       "      <td>37.0</td>\n",
       "      <td>Yes</td>\n",
       "      <td>Travel_Rarely</td>\n",
       "      <td>1373</td>\n",
       "      <td>Research &amp; Development</td>\n",
       "      <td>2</td>\n",
       "      <td>2</td>\n",
       "      <td>Other</td>\n",
       "      <td>1</td>\n",
       "      <td>4</td>\n",
       "      <td>...</td>\n",
       "      <td>80.0</td>\n",
       "      <td>0.0</td>\n",
       "      <td>7.0</td>\n",
       "      <td>3.0</td>\n",
       "      <td>3</td>\n",
       "      <td>0.0</td>\n",
       "      <td>4.240931</td>\n",
       "      <td>0</td>\n",
       "      <td>0.0</td>\n",
       "      <td>2</td>\n",
       "    </tr>\n",
       "    <tr>\n",
       "      <td>3</td>\n",
       "      <td>33.0</td>\n",
       "      <td>No</td>\n",
       "      <td>Travel_Frequently</td>\n",
       "      <td>1392</td>\n",
       "      <td>Research &amp; Development</td>\n",
       "      <td>3</td>\n",
       "      <td>4</td>\n",
       "      <td>Life Sciences</td>\n",
       "      <td>1</td>\n",
       "      <td>5</td>\n",
       "      <td>...</td>\n",
       "      <td>80.0</td>\n",
       "      <td>0.0</td>\n",
       "      <td>8.0</td>\n",
       "      <td>3.0</td>\n",
       "      <td>3</td>\n",
       "      <td>8.0</td>\n",
       "      <td>7.000000</td>\n",
       "      <td>3</td>\n",
       "      <td>0.0</td>\n",
       "      <td>0</td>\n",
       "    </tr>\n",
       "    <tr>\n",
       "      <td>4</td>\n",
       "      <td>27.0</td>\n",
       "      <td>No</td>\n",
       "      <td>Travel_Rarely</td>\n",
       "      <td>591</td>\n",
       "      <td>Research &amp; Development</td>\n",
       "      <td>2</td>\n",
       "      <td>1</td>\n",
       "      <td>Medical</td>\n",
       "      <td>1</td>\n",
       "      <td>7</td>\n",
       "      <td>...</td>\n",
       "      <td>80.0</td>\n",
       "      <td>1.0</td>\n",
       "      <td>6.0</td>\n",
       "      <td>3.0</td>\n",
       "      <td>3</td>\n",
       "      <td>2.0</td>\n",
       "      <td>2.000000</td>\n",
       "      <td>2</td>\n",
       "      <td>2.0</td>\n",
       "      <td>2</td>\n",
       "    </tr>\n",
       "  </tbody>\n",
       "</table>\n",
       "<p>5 rows × 36 columns</p>\n",
       "</div>"
      ],
      "text/plain": [
       "    Age Attrition     BusinessTravel  DailyRate              Department  \\\n",
       "0  41.0       Yes      Travel_Rarely       1102                   Sales   \n",
       "1  49.0        No  Travel_Frequently        279  Research & Development   \n",
       "2  37.0       Yes      Travel_Rarely       1373  Research & Development   \n",
       "3  33.0        No  Travel_Frequently       1392  Research & Development   \n",
       "4  27.0        No      Travel_Rarely        591  Research & Development   \n",
       "\n",
       "   DistanceFromHome  Education EducationField  EmployeeCount  EmployeeNumber  \\\n",
       "0                 1          2  Life Sciences              1               1   \n",
       "1                 8          1  Life Sciences              1               2   \n",
       "2                 2          2          Other              1               4   \n",
       "3                 3          4  Life Sciences              1               5   \n",
       "4                 2          1        Medical              1               7   \n",
       "\n",
       "   ...  StandardHours StockOptionLevel  TotalWorkingYears  \\\n",
       "0  ...           80.0              0.0                8.0   \n",
       "1  ...           80.0              1.0               10.0   \n",
       "2  ...           80.0              0.0                7.0   \n",
       "3  ...           80.0              0.0                8.0   \n",
       "4  ...           80.0              1.0                6.0   \n",
       "\n",
       "   TrainingTimesLastYear  WorkLifeBalance YearsAtCompany  YearsInCurrentRole  \\\n",
       "0                    0.0                1            6.0            4.000000   \n",
       "1                    3.0                3           10.0            7.000000   \n",
       "2                    3.0                3            0.0            4.240931   \n",
       "3                    3.0                3            8.0            7.000000   \n",
       "4                    3.0                3            2.0            2.000000   \n",
       "\n",
       "  YearsSinceLastPromotion  YearsWithCurrManager  Quality  \n",
       "0                       0                   5.0        2  \n",
       "1                       1                   7.0        2  \n",
       "2                       0                   0.0        2  \n",
       "3                       3                   0.0        0  \n",
       "4                       2                   2.0        2  \n",
       "\n",
       "[5 rows x 36 columns]"
      ]
     },
     "execution_count": 239,
     "metadata": {},
     "output_type": "execute_result"
    }
   ],
   "source": [
    "jobperf_df.head()"
   ]
  },
  {
   "cell_type": "code",
   "execution_count": 240,
   "metadata": {},
   "outputs": [],
   "source": [
    "jobperf_df.to_csv(\"performance.csv\")\n"
   ]
  }
 ],
 "metadata": {
  "kernelspec": {
   "display_name": "Python 3",
   "language": "python",
   "name": "python3"
  },
  "language_info": {
   "codemirror_mode": {
    "name": "ipython",
    "version": 3
   },
   "file_extension": ".py",
   "mimetype": "text/x-python",
   "name": "python",
   "nbconvert_exporter": "python",
   "pygments_lexer": "ipython3",
   "version": "3.7.4"
  }
 },
 "nbformat": 4,
 "nbformat_minor": 2
}
